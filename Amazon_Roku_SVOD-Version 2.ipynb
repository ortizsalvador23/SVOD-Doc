{
 "cells": [
  {
   "cell_type": "code",
   "execution_count": 1,
   "id": "f4b5093c",
   "metadata": {},
   "outputs": [],
   "source": [
    "import pandas as pd\n",
    "import numpy as np\n",
    "from datetime import datetime\n",
    "from datetime import timedelta\n",
    "import os\n",
    "import matplotlib.pyplot as plt"
   ]
  },
  {
   "cell_type": "code",
   "execution_count": 2,
   "id": "731c576e",
   "metadata": {},
   "outputs": [
    {
     "data": {
      "text/html": [
       "<style>.container { width:80% !important; }</style>"
      ],
      "text/plain": [
       "<IPython.core.display.HTML object>"
      ]
     },
     "metadata": {},
     "output_type": "display_data"
    }
   ],
   "source": [
    "from IPython.core.display import display, HTML\n",
    "display(HTML(\"<style>.container { width:80% !important; }</style>\"))"
   ]
  },
  {
   "cell_type": "code",
   "execution_count": 3,
   "id": "a3afd9d2",
   "metadata": {},
   "outputs": [],
   "source": [
    "pd.set_option('display.max_rows',500)\n",
    "pd.set_option('display.max_columns', None)"
   ]
  },
  {
   "cell_type": "markdown",
   "id": "d7404a84",
   "metadata": {},
   "source": [
    "# Which Months"
   ]
  },
  {
   "cell_type": "code",
   "execution_count": 4,
   "id": "b368af19",
   "metadata": {},
   "outputs": [],
   "source": [
    "Monthsinc= '04_20-07_22'"
   ]
  },
  {
   "cell_type": "markdown",
   "id": "15db14e9",
   "metadata": {},
   "source": [
    "# Amazon Subs (Importing, Merging, Transforming)"
   ]
  },
  {
   "cell_type": "code",
   "execution_count": 5,
   "id": "932a3012",
   "metadata": {},
   "outputs": [],
   "source": [
    "SFilepath='C:/Users/sortiz/Onedrive - Cinedigm/Databases/SVOD/Amazon SVOD DB/Amazon Subs/'\n",
    "\n",
    "Channels = ['Screambox', 'Docurama', 'CONtv', 'Dove Channel']\n",
    "CountryF = ['US','UK']"
   ]
  },
  {
   "cell_type": "code",
   "execution_count": 6,
   "id": "3723bce9",
   "metadata": {},
   "outputs": [],
   "source": [
    "#importing Subs for all subs except Fandor\n",
    "\n",
    "lists = {'2020-04':'2020','2020-05':'2020','2020-06':'2020','2020-07':'2020','2020-08':'2020','2020-09':'2020','2020-10':'2020','2020-11':'2020','2020-12':'2020',\n",
    "         '2021-01':'2021','2021-02':'2021','2021-03':'2021','2021-04':'2021','2021-05':'2021','2021-06':'2021','2021-07':'2021','2021-08':'2021','2021-09':'2021','2021-10':'2021','2021-11':'2021','2021-12':'2021',\n",
    "         '2022-01':'2022','2022-02':'2022','2022-03':'2022','2022-04':'2022','2022-05':'2022','2022-06':'2022','2022-07':'2022'}\n",
    "l=[]\n",
    "\n",
    "for i in Channels: \n",
    "    for key,value in lists.items():\n",
    "        l = l + [SFilepath + i +'/' + value + '/subs_m_US_' + i + '_' + key + '.csv']\n",
    "        "
   ]
  },
  {
   "cell_type": "code",
   "execution_count": 7,
   "id": "4ae6f035",
   "metadata": {},
   "outputs": [],
   "source": [
    "#importing Subs for Fandor (Since UK data is always late)\n",
    "\n",
    "listsF = {'2020-04':'2020','2020-05':'2020','2020-06':'2020','2020-07':'2020','2020-08':'2020','2020-09':'2020','2020-10':'2020','2020-11':'2020','2020-12':'2020',\n",
    "         '2021-01':'2021','2021-02':'2021','2021-03':'2021','2021-04':'2021','2021-05':'2021','2021-06':'2021','2021-07':'2021','2021-08':'2021','2021-09':'2021','2021-10':'2021','2021-11':'2021','2021-12':'2021',\n",
    "         '2022-01':'2022','2022-02':'2022','2022-03':'2022','2022-04':'2022','2022-05':'2022','2022-06':'2022','2022-07':'2022'}\n",
    "lF=[]\n",
    "\n",
    "for i in CountryF: \n",
    "    for key,value in listsF.items():\n",
    "        lF = lF + [SFilepath + 'Fandor/' + i +'/' + value + '/subs_m_' + i + '_' + 'Fandor' + '_' + key + '.csv']\n",
    "        "
   ]
  },
  {
   "cell_type": "code",
   "execution_count": 8,
   "id": "94bffff4-5c3c-4c39-bbb9-84faafede76f",
   "metadata": {},
   "outputs": [
    {
     "data": {
      "text/plain": [
       "['C:/Users/sortiz/Onedrive - Cinedigm/Databases/SVOD/Amazon SVOD DB/Amazon Subs/Screambox/2020/subs_m_US_Screambox_2020-04.csv',\n",
       " 'C:/Users/sortiz/Onedrive - Cinedigm/Databases/SVOD/Amazon SVOD DB/Amazon Subs/Screambox/2020/subs_m_US_Screambox_2020-05.csv',\n",
       " 'C:/Users/sortiz/Onedrive - Cinedigm/Databases/SVOD/Amazon SVOD DB/Amazon Subs/Screambox/2020/subs_m_US_Screambox_2020-06.csv',\n",
       " 'C:/Users/sortiz/Onedrive - Cinedigm/Databases/SVOD/Amazon SVOD DB/Amazon Subs/Screambox/2020/subs_m_US_Screambox_2020-07.csv',\n",
       " 'C:/Users/sortiz/Onedrive - Cinedigm/Databases/SVOD/Amazon SVOD DB/Amazon Subs/Screambox/2020/subs_m_US_Screambox_2020-08.csv',\n",
       " 'C:/Users/sortiz/Onedrive - Cinedigm/Databases/SVOD/Amazon SVOD DB/Amazon Subs/Screambox/2020/subs_m_US_Screambox_2020-09.csv',\n",
       " 'C:/Users/sortiz/Onedrive - Cinedigm/Databases/SVOD/Amazon SVOD DB/Amazon Subs/Screambox/2020/subs_m_US_Screambox_2020-10.csv',\n",
       " 'C:/Users/sortiz/Onedrive - Cinedigm/Databases/SVOD/Amazon SVOD DB/Amazon Subs/Screambox/2020/subs_m_US_Screambox_2020-11.csv',\n",
       " 'C:/Users/sortiz/Onedrive - Cinedigm/Databases/SVOD/Amazon SVOD DB/Amazon Subs/Screambox/2020/subs_m_US_Screambox_2020-12.csv',\n",
       " 'C:/Users/sortiz/Onedrive - Cinedigm/Databases/SVOD/Amazon SVOD DB/Amazon Subs/Screambox/2021/subs_m_US_Screambox_2021-01.csv',\n",
       " 'C:/Users/sortiz/Onedrive - Cinedigm/Databases/SVOD/Amazon SVOD DB/Amazon Subs/Screambox/2021/subs_m_US_Screambox_2021-02.csv',\n",
       " 'C:/Users/sortiz/Onedrive - Cinedigm/Databases/SVOD/Amazon SVOD DB/Amazon Subs/Screambox/2021/subs_m_US_Screambox_2021-03.csv',\n",
       " 'C:/Users/sortiz/Onedrive - Cinedigm/Databases/SVOD/Amazon SVOD DB/Amazon Subs/Screambox/2021/subs_m_US_Screambox_2021-04.csv',\n",
       " 'C:/Users/sortiz/Onedrive - Cinedigm/Databases/SVOD/Amazon SVOD DB/Amazon Subs/Screambox/2021/subs_m_US_Screambox_2021-05.csv',\n",
       " 'C:/Users/sortiz/Onedrive - Cinedigm/Databases/SVOD/Amazon SVOD DB/Amazon Subs/Screambox/2021/subs_m_US_Screambox_2021-06.csv',\n",
       " 'C:/Users/sortiz/Onedrive - Cinedigm/Databases/SVOD/Amazon SVOD DB/Amazon Subs/Screambox/2021/subs_m_US_Screambox_2021-07.csv',\n",
       " 'C:/Users/sortiz/Onedrive - Cinedigm/Databases/SVOD/Amazon SVOD DB/Amazon Subs/Screambox/2021/subs_m_US_Screambox_2021-08.csv',\n",
       " 'C:/Users/sortiz/Onedrive - Cinedigm/Databases/SVOD/Amazon SVOD DB/Amazon Subs/Screambox/2021/subs_m_US_Screambox_2021-09.csv',\n",
       " 'C:/Users/sortiz/Onedrive - Cinedigm/Databases/SVOD/Amazon SVOD DB/Amazon Subs/Screambox/2021/subs_m_US_Screambox_2021-10.csv',\n",
       " 'C:/Users/sortiz/Onedrive - Cinedigm/Databases/SVOD/Amazon SVOD DB/Amazon Subs/Screambox/2021/subs_m_US_Screambox_2021-11.csv',\n",
       " 'C:/Users/sortiz/Onedrive - Cinedigm/Databases/SVOD/Amazon SVOD DB/Amazon Subs/Screambox/2021/subs_m_US_Screambox_2021-12.csv',\n",
       " 'C:/Users/sortiz/Onedrive - Cinedigm/Databases/SVOD/Amazon SVOD DB/Amazon Subs/Screambox/2022/subs_m_US_Screambox_2022-01.csv',\n",
       " 'C:/Users/sortiz/Onedrive - Cinedigm/Databases/SVOD/Amazon SVOD DB/Amazon Subs/Screambox/2022/subs_m_US_Screambox_2022-02.csv',\n",
       " 'C:/Users/sortiz/Onedrive - Cinedigm/Databases/SVOD/Amazon SVOD DB/Amazon Subs/Screambox/2022/subs_m_US_Screambox_2022-03.csv',\n",
       " 'C:/Users/sortiz/Onedrive - Cinedigm/Databases/SVOD/Amazon SVOD DB/Amazon Subs/Screambox/2022/subs_m_US_Screambox_2022-04.csv',\n",
       " 'C:/Users/sortiz/Onedrive - Cinedigm/Databases/SVOD/Amazon SVOD DB/Amazon Subs/Screambox/2022/subs_m_US_Screambox_2022-05.csv',\n",
       " 'C:/Users/sortiz/Onedrive - Cinedigm/Databases/SVOD/Amazon SVOD DB/Amazon Subs/Screambox/2022/subs_m_US_Screambox_2022-06.csv',\n",
       " 'C:/Users/sortiz/Onedrive - Cinedigm/Databases/SVOD/Amazon SVOD DB/Amazon Subs/Screambox/2022/subs_m_US_Screambox_2022-07.csv',\n",
       " 'C:/Users/sortiz/Onedrive - Cinedigm/Databases/SVOD/Amazon SVOD DB/Amazon Subs/Docurama/2020/subs_m_US_Docurama_2020-04.csv',\n",
       " 'C:/Users/sortiz/Onedrive - Cinedigm/Databases/SVOD/Amazon SVOD DB/Amazon Subs/Docurama/2020/subs_m_US_Docurama_2020-05.csv',\n",
       " 'C:/Users/sortiz/Onedrive - Cinedigm/Databases/SVOD/Amazon SVOD DB/Amazon Subs/Docurama/2020/subs_m_US_Docurama_2020-06.csv',\n",
       " 'C:/Users/sortiz/Onedrive - Cinedigm/Databases/SVOD/Amazon SVOD DB/Amazon Subs/Docurama/2020/subs_m_US_Docurama_2020-07.csv',\n",
       " 'C:/Users/sortiz/Onedrive - Cinedigm/Databases/SVOD/Amazon SVOD DB/Amazon Subs/Docurama/2020/subs_m_US_Docurama_2020-08.csv',\n",
       " 'C:/Users/sortiz/Onedrive - Cinedigm/Databases/SVOD/Amazon SVOD DB/Amazon Subs/Docurama/2020/subs_m_US_Docurama_2020-09.csv',\n",
       " 'C:/Users/sortiz/Onedrive - Cinedigm/Databases/SVOD/Amazon SVOD DB/Amazon Subs/Docurama/2020/subs_m_US_Docurama_2020-10.csv',\n",
       " 'C:/Users/sortiz/Onedrive - Cinedigm/Databases/SVOD/Amazon SVOD DB/Amazon Subs/Docurama/2020/subs_m_US_Docurama_2020-11.csv',\n",
       " 'C:/Users/sortiz/Onedrive - Cinedigm/Databases/SVOD/Amazon SVOD DB/Amazon Subs/Docurama/2020/subs_m_US_Docurama_2020-12.csv',\n",
       " 'C:/Users/sortiz/Onedrive - Cinedigm/Databases/SVOD/Amazon SVOD DB/Amazon Subs/Docurama/2021/subs_m_US_Docurama_2021-01.csv',\n",
       " 'C:/Users/sortiz/Onedrive - Cinedigm/Databases/SVOD/Amazon SVOD DB/Amazon Subs/Docurama/2021/subs_m_US_Docurama_2021-02.csv',\n",
       " 'C:/Users/sortiz/Onedrive - Cinedigm/Databases/SVOD/Amazon SVOD DB/Amazon Subs/Docurama/2021/subs_m_US_Docurama_2021-03.csv',\n",
       " 'C:/Users/sortiz/Onedrive - Cinedigm/Databases/SVOD/Amazon SVOD DB/Amazon Subs/Docurama/2021/subs_m_US_Docurama_2021-04.csv',\n",
       " 'C:/Users/sortiz/Onedrive - Cinedigm/Databases/SVOD/Amazon SVOD DB/Amazon Subs/Docurama/2021/subs_m_US_Docurama_2021-05.csv',\n",
       " 'C:/Users/sortiz/Onedrive - Cinedigm/Databases/SVOD/Amazon SVOD DB/Amazon Subs/Docurama/2021/subs_m_US_Docurama_2021-06.csv',\n",
       " 'C:/Users/sortiz/Onedrive - Cinedigm/Databases/SVOD/Amazon SVOD DB/Amazon Subs/Docurama/2021/subs_m_US_Docurama_2021-07.csv',\n",
       " 'C:/Users/sortiz/Onedrive - Cinedigm/Databases/SVOD/Amazon SVOD DB/Amazon Subs/Docurama/2021/subs_m_US_Docurama_2021-08.csv',\n",
       " 'C:/Users/sortiz/Onedrive - Cinedigm/Databases/SVOD/Amazon SVOD DB/Amazon Subs/Docurama/2021/subs_m_US_Docurama_2021-09.csv',\n",
       " 'C:/Users/sortiz/Onedrive - Cinedigm/Databases/SVOD/Amazon SVOD DB/Amazon Subs/Docurama/2021/subs_m_US_Docurama_2021-10.csv',\n",
       " 'C:/Users/sortiz/Onedrive - Cinedigm/Databases/SVOD/Amazon SVOD DB/Amazon Subs/Docurama/2021/subs_m_US_Docurama_2021-11.csv',\n",
       " 'C:/Users/sortiz/Onedrive - Cinedigm/Databases/SVOD/Amazon SVOD DB/Amazon Subs/Docurama/2021/subs_m_US_Docurama_2021-12.csv',\n",
       " 'C:/Users/sortiz/Onedrive - Cinedigm/Databases/SVOD/Amazon SVOD DB/Amazon Subs/Docurama/2022/subs_m_US_Docurama_2022-01.csv',\n",
       " 'C:/Users/sortiz/Onedrive - Cinedigm/Databases/SVOD/Amazon SVOD DB/Amazon Subs/Docurama/2022/subs_m_US_Docurama_2022-02.csv',\n",
       " 'C:/Users/sortiz/Onedrive - Cinedigm/Databases/SVOD/Amazon SVOD DB/Amazon Subs/Docurama/2022/subs_m_US_Docurama_2022-03.csv',\n",
       " 'C:/Users/sortiz/Onedrive - Cinedigm/Databases/SVOD/Amazon SVOD DB/Amazon Subs/Docurama/2022/subs_m_US_Docurama_2022-04.csv',\n",
       " 'C:/Users/sortiz/Onedrive - Cinedigm/Databases/SVOD/Amazon SVOD DB/Amazon Subs/Docurama/2022/subs_m_US_Docurama_2022-05.csv',\n",
       " 'C:/Users/sortiz/Onedrive - Cinedigm/Databases/SVOD/Amazon SVOD DB/Amazon Subs/Docurama/2022/subs_m_US_Docurama_2022-06.csv',\n",
       " 'C:/Users/sortiz/Onedrive - Cinedigm/Databases/SVOD/Amazon SVOD DB/Amazon Subs/Docurama/2022/subs_m_US_Docurama_2022-07.csv',\n",
       " 'C:/Users/sortiz/Onedrive - Cinedigm/Databases/SVOD/Amazon SVOD DB/Amazon Subs/CONtv/2020/subs_m_US_CONtv_2020-04.csv',\n",
       " 'C:/Users/sortiz/Onedrive - Cinedigm/Databases/SVOD/Amazon SVOD DB/Amazon Subs/CONtv/2020/subs_m_US_CONtv_2020-05.csv',\n",
       " 'C:/Users/sortiz/Onedrive - Cinedigm/Databases/SVOD/Amazon SVOD DB/Amazon Subs/CONtv/2020/subs_m_US_CONtv_2020-06.csv',\n",
       " 'C:/Users/sortiz/Onedrive - Cinedigm/Databases/SVOD/Amazon SVOD DB/Amazon Subs/CONtv/2020/subs_m_US_CONtv_2020-07.csv',\n",
       " 'C:/Users/sortiz/Onedrive - Cinedigm/Databases/SVOD/Amazon SVOD DB/Amazon Subs/CONtv/2020/subs_m_US_CONtv_2020-08.csv',\n",
       " 'C:/Users/sortiz/Onedrive - Cinedigm/Databases/SVOD/Amazon SVOD DB/Amazon Subs/CONtv/2020/subs_m_US_CONtv_2020-09.csv',\n",
       " 'C:/Users/sortiz/Onedrive - Cinedigm/Databases/SVOD/Amazon SVOD DB/Amazon Subs/CONtv/2020/subs_m_US_CONtv_2020-10.csv',\n",
       " 'C:/Users/sortiz/Onedrive - Cinedigm/Databases/SVOD/Amazon SVOD DB/Amazon Subs/CONtv/2020/subs_m_US_CONtv_2020-11.csv',\n",
       " 'C:/Users/sortiz/Onedrive - Cinedigm/Databases/SVOD/Amazon SVOD DB/Amazon Subs/CONtv/2020/subs_m_US_CONtv_2020-12.csv',\n",
       " 'C:/Users/sortiz/Onedrive - Cinedigm/Databases/SVOD/Amazon SVOD DB/Amazon Subs/CONtv/2021/subs_m_US_CONtv_2021-01.csv',\n",
       " 'C:/Users/sortiz/Onedrive - Cinedigm/Databases/SVOD/Amazon SVOD DB/Amazon Subs/CONtv/2021/subs_m_US_CONtv_2021-02.csv',\n",
       " 'C:/Users/sortiz/Onedrive - Cinedigm/Databases/SVOD/Amazon SVOD DB/Amazon Subs/CONtv/2021/subs_m_US_CONtv_2021-03.csv',\n",
       " 'C:/Users/sortiz/Onedrive - Cinedigm/Databases/SVOD/Amazon SVOD DB/Amazon Subs/CONtv/2021/subs_m_US_CONtv_2021-04.csv',\n",
       " 'C:/Users/sortiz/Onedrive - Cinedigm/Databases/SVOD/Amazon SVOD DB/Amazon Subs/CONtv/2021/subs_m_US_CONtv_2021-05.csv',\n",
       " 'C:/Users/sortiz/Onedrive - Cinedigm/Databases/SVOD/Amazon SVOD DB/Amazon Subs/CONtv/2021/subs_m_US_CONtv_2021-06.csv',\n",
       " 'C:/Users/sortiz/Onedrive - Cinedigm/Databases/SVOD/Amazon SVOD DB/Amazon Subs/CONtv/2021/subs_m_US_CONtv_2021-07.csv',\n",
       " 'C:/Users/sortiz/Onedrive - Cinedigm/Databases/SVOD/Amazon SVOD DB/Amazon Subs/CONtv/2021/subs_m_US_CONtv_2021-08.csv',\n",
       " 'C:/Users/sortiz/Onedrive - Cinedigm/Databases/SVOD/Amazon SVOD DB/Amazon Subs/CONtv/2021/subs_m_US_CONtv_2021-09.csv',\n",
       " 'C:/Users/sortiz/Onedrive - Cinedigm/Databases/SVOD/Amazon SVOD DB/Amazon Subs/CONtv/2021/subs_m_US_CONtv_2021-10.csv',\n",
       " 'C:/Users/sortiz/Onedrive - Cinedigm/Databases/SVOD/Amazon SVOD DB/Amazon Subs/CONtv/2021/subs_m_US_CONtv_2021-11.csv',\n",
       " 'C:/Users/sortiz/Onedrive - Cinedigm/Databases/SVOD/Amazon SVOD DB/Amazon Subs/CONtv/2021/subs_m_US_CONtv_2021-12.csv',\n",
       " 'C:/Users/sortiz/Onedrive - Cinedigm/Databases/SVOD/Amazon SVOD DB/Amazon Subs/CONtv/2022/subs_m_US_CONtv_2022-01.csv',\n",
       " 'C:/Users/sortiz/Onedrive - Cinedigm/Databases/SVOD/Amazon SVOD DB/Amazon Subs/CONtv/2022/subs_m_US_CONtv_2022-02.csv',\n",
       " 'C:/Users/sortiz/Onedrive - Cinedigm/Databases/SVOD/Amazon SVOD DB/Amazon Subs/CONtv/2022/subs_m_US_CONtv_2022-03.csv',\n",
       " 'C:/Users/sortiz/Onedrive - Cinedigm/Databases/SVOD/Amazon SVOD DB/Amazon Subs/CONtv/2022/subs_m_US_CONtv_2022-04.csv',\n",
       " 'C:/Users/sortiz/Onedrive - Cinedigm/Databases/SVOD/Amazon SVOD DB/Amazon Subs/CONtv/2022/subs_m_US_CONtv_2022-05.csv',\n",
       " 'C:/Users/sortiz/Onedrive - Cinedigm/Databases/SVOD/Amazon SVOD DB/Amazon Subs/CONtv/2022/subs_m_US_CONtv_2022-06.csv',\n",
       " 'C:/Users/sortiz/Onedrive - Cinedigm/Databases/SVOD/Amazon SVOD DB/Amazon Subs/CONtv/2022/subs_m_US_CONtv_2022-07.csv',\n",
       " 'C:/Users/sortiz/Onedrive - Cinedigm/Databases/SVOD/Amazon SVOD DB/Amazon Subs/Dove Channel/2020/subs_m_US_Dove Channel_2020-04.csv',\n",
       " 'C:/Users/sortiz/Onedrive - Cinedigm/Databases/SVOD/Amazon SVOD DB/Amazon Subs/Dove Channel/2020/subs_m_US_Dove Channel_2020-05.csv',\n",
       " 'C:/Users/sortiz/Onedrive - Cinedigm/Databases/SVOD/Amazon SVOD DB/Amazon Subs/Dove Channel/2020/subs_m_US_Dove Channel_2020-06.csv',\n",
       " 'C:/Users/sortiz/Onedrive - Cinedigm/Databases/SVOD/Amazon SVOD DB/Amazon Subs/Dove Channel/2020/subs_m_US_Dove Channel_2020-07.csv',\n",
       " 'C:/Users/sortiz/Onedrive - Cinedigm/Databases/SVOD/Amazon SVOD DB/Amazon Subs/Dove Channel/2020/subs_m_US_Dove Channel_2020-08.csv',\n",
       " 'C:/Users/sortiz/Onedrive - Cinedigm/Databases/SVOD/Amazon SVOD DB/Amazon Subs/Dove Channel/2020/subs_m_US_Dove Channel_2020-09.csv',\n",
       " 'C:/Users/sortiz/Onedrive - Cinedigm/Databases/SVOD/Amazon SVOD DB/Amazon Subs/Dove Channel/2020/subs_m_US_Dove Channel_2020-10.csv',\n",
       " 'C:/Users/sortiz/Onedrive - Cinedigm/Databases/SVOD/Amazon SVOD DB/Amazon Subs/Dove Channel/2020/subs_m_US_Dove Channel_2020-11.csv',\n",
       " 'C:/Users/sortiz/Onedrive - Cinedigm/Databases/SVOD/Amazon SVOD DB/Amazon Subs/Dove Channel/2020/subs_m_US_Dove Channel_2020-12.csv',\n",
       " 'C:/Users/sortiz/Onedrive - Cinedigm/Databases/SVOD/Amazon SVOD DB/Amazon Subs/Dove Channel/2021/subs_m_US_Dove Channel_2021-01.csv',\n",
       " 'C:/Users/sortiz/Onedrive - Cinedigm/Databases/SVOD/Amazon SVOD DB/Amazon Subs/Dove Channel/2021/subs_m_US_Dove Channel_2021-02.csv',\n",
       " 'C:/Users/sortiz/Onedrive - Cinedigm/Databases/SVOD/Amazon SVOD DB/Amazon Subs/Dove Channel/2021/subs_m_US_Dove Channel_2021-03.csv',\n",
       " 'C:/Users/sortiz/Onedrive - Cinedigm/Databases/SVOD/Amazon SVOD DB/Amazon Subs/Dove Channel/2021/subs_m_US_Dove Channel_2021-04.csv',\n",
       " 'C:/Users/sortiz/Onedrive - Cinedigm/Databases/SVOD/Amazon SVOD DB/Amazon Subs/Dove Channel/2021/subs_m_US_Dove Channel_2021-05.csv',\n",
       " 'C:/Users/sortiz/Onedrive - Cinedigm/Databases/SVOD/Amazon SVOD DB/Amazon Subs/Dove Channel/2021/subs_m_US_Dove Channel_2021-06.csv',\n",
       " 'C:/Users/sortiz/Onedrive - Cinedigm/Databases/SVOD/Amazon SVOD DB/Amazon Subs/Dove Channel/2021/subs_m_US_Dove Channel_2021-07.csv',\n",
       " 'C:/Users/sortiz/Onedrive - Cinedigm/Databases/SVOD/Amazon SVOD DB/Amazon Subs/Dove Channel/2021/subs_m_US_Dove Channel_2021-08.csv',\n",
       " 'C:/Users/sortiz/Onedrive - Cinedigm/Databases/SVOD/Amazon SVOD DB/Amazon Subs/Dove Channel/2021/subs_m_US_Dove Channel_2021-09.csv',\n",
       " 'C:/Users/sortiz/Onedrive - Cinedigm/Databases/SVOD/Amazon SVOD DB/Amazon Subs/Dove Channel/2021/subs_m_US_Dove Channel_2021-10.csv',\n",
       " 'C:/Users/sortiz/Onedrive - Cinedigm/Databases/SVOD/Amazon SVOD DB/Amazon Subs/Dove Channel/2021/subs_m_US_Dove Channel_2021-11.csv',\n",
       " 'C:/Users/sortiz/Onedrive - Cinedigm/Databases/SVOD/Amazon SVOD DB/Amazon Subs/Dove Channel/2021/subs_m_US_Dove Channel_2021-12.csv',\n",
       " 'C:/Users/sortiz/Onedrive - Cinedigm/Databases/SVOD/Amazon SVOD DB/Amazon Subs/Dove Channel/2022/subs_m_US_Dove Channel_2022-01.csv',\n",
       " 'C:/Users/sortiz/Onedrive - Cinedigm/Databases/SVOD/Amazon SVOD DB/Amazon Subs/Dove Channel/2022/subs_m_US_Dove Channel_2022-02.csv',\n",
       " 'C:/Users/sortiz/Onedrive - Cinedigm/Databases/SVOD/Amazon SVOD DB/Amazon Subs/Dove Channel/2022/subs_m_US_Dove Channel_2022-03.csv',\n",
       " 'C:/Users/sortiz/Onedrive - Cinedigm/Databases/SVOD/Amazon SVOD DB/Amazon Subs/Dove Channel/2022/subs_m_US_Dove Channel_2022-04.csv',\n",
       " 'C:/Users/sortiz/Onedrive - Cinedigm/Databases/SVOD/Amazon SVOD DB/Amazon Subs/Dove Channel/2022/subs_m_US_Dove Channel_2022-05.csv',\n",
       " 'C:/Users/sortiz/Onedrive - Cinedigm/Databases/SVOD/Amazon SVOD DB/Amazon Subs/Dove Channel/2022/subs_m_US_Dove Channel_2022-06.csv',\n",
       " 'C:/Users/sortiz/Onedrive - Cinedigm/Databases/SVOD/Amazon SVOD DB/Amazon Subs/Dove Channel/2022/subs_m_US_Dove Channel_2022-07.csv']"
      ]
     },
     "execution_count": 8,
     "metadata": {},
     "output_type": "execute_result"
    }
   ],
   "source": [
    "l"
   ]
  },
  {
   "cell_type": "code",
   "execution_count": 9,
   "id": "3c52921f-3267-4731-9261-596044103768",
   "metadata": {},
   "outputs": [
    {
     "ename": "NameError",
     "evalue": "name 'rfgf' is not defined",
     "output_type": "error",
     "traceback": [
      "\u001b[1;31m---------------------------------------------------------------------------\u001b[0m",
      "\u001b[1;31mNameError\u001b[0m                                 Traceback (most recent call last)",
      "\u001b[1;32m<ipython-input-9-59f0b46cfcf6>\u001b[0m in \u001b[0;36m<module>\u001b[1;34m\u001b[0m\n\u001b[1;32m----> 1\u001b[1;33m \u001b[0mrfgf\u001b[0m\u001b[1;33m\u001b[0m\u001b[1;33m\u001b[0m\u001b[0m\n\u001b[0m",
      "\u001b[1;31mNameError\u001b[0m: name 'rfgf' is not defined"
     ]
    }
   ],
   "source": [
    "rfgf"
   ]
  },
  {
   "cell_type": "code",
   "execution_count": null,
   "id": "ca320301",
   "metadata": {},
   "outputs": [],
   "source": [
    "dfsubs = pd.concat([pd.read_csv(file) for file in l]).reset_index()\n",
    "dfsubs= dfsubs.loc[dfsubs['Subscription Category']== 'HO',('Report Start','Subscription','Billing Amount','Active Subscriptions')]"
   ]
  },
  {
   "cell_type": "code",
   "execution_count": null,
   "id": "d7bf682a",
   "metadata": {},
   "outputs": [],
   "source": [
    "dfFsubs = pd.concat([pd.read_csv(file) for file in lF]).reset_index()\n",
    "# Fandor_last= pd.read_csv(SFilepath + 'Fandor/US/2022/subs_m_US_Fandor_2022-04.csv')\n",
    "# dfFsubs = pd.concat([dfFsubs, Fandor_last])\n",
    "\n",
    "dfFsubs= dfFsubs.loc[dfFsubs['Subscription Category']== 'HO',('Report Start','Subscription','Billing Amount','Active Subscriptions')]\n",
    "dfFsubs['Subscription']='Fandor'\n",
    "dfFsubs= dfFsubs.groupby(by=['Report Start','Subscription']).agg(sum).reset_index()\n",
    "dfFsubs['Billing Amount']= 3.99"
   ]
  },
  {
   "cell_type": "code",
   "execution_count": null,
   "id": "fdc3c374",
   "metadata": {},
   "outputs": [],
   "source": [
    "Amz_subs= pd.concat([dfsubs,dfFsubs]).reset_index()\n",
    "Amz_subs.rename(columns={'Active Subscriptions':'Amazon Paid Subs'}, inplace=True)\n",
    "Amz_subs['Report Start']= pd.to_datetime(Amz_subs['Report Start'])\n",
    "Amz_subs.loc[Amz_subs['Subscription']=='Dove Channel', 'Subscription'] = 'Dove'"
   ]
  },
  {
   "cell_type": "code",
   "execution_count": null,
   "id": "b72be471",
   "metadata": {},
   "outputs": [],
   "source": [
    "Amz_subs.head(200)"
   ]
  },
  {
   "cell_type": "markdown",
   "id": "96f2569c",
   "metadata": {},
   "source": [
    "# Roku Subs (Importing, Transforming)"
   ]
  },
  {
   "cell_type": "code",
   "execution_count": null,
   "id": "2746bf5e",
   "metadata": {},
   "outputs": [],
   "source": [
    "Rok_subs= pd.read_csv('C://Users/sortiz/OneDrive - Cinedigm/Databases/SVOD/Roku SVOD DB/Roku Subs.csv')"
   ]
  },
  {
   "cell_type": "code",
   "execution_count": null,
   "id": "9329ce0f",
   "metadata": {},
   "outputs": [],
   "source": [
    "Rok_subs['Date Key']=pd.to_datetime(Rok_subs['Date Key'])\n",
    "Rok_subs.rename(columns={'Date Key':'Report Start','Provider Product ID':'Subscription','Total Active Paid End Users':'Roku Paid Subs'}, inplace=True)"
   ]
  },
  {
   "cell_type": "code",
   "execution_count": null,
   "id": "5e77f0b9",
   "metadata": {},
   "outputs": [],
   "source": [
    "Rok_subs.head(10)"
   ]
  },
  {
   "cell_type": "markdown",
   "id": "a0f8a85d",
   "metadata": {},
   "source": [
    "# Merge Subs into one Table 'Subs'"
   ]
  },
  {
   "cell_type": "code",
   "execution_count": null,
   "id": "3d9df33a",
   "metadata": {},
   "outputs": [],
   "source": [
    "Subs= pd.merge(Amz_subs, Rok_subs.loc[:,('Report Start','Subscription','Roku Paid Subs')], on= ['Report Start', 'Subscription'], how= 'left')"
   ]
  },
  {
   "cell_type": "code",
   "execution_count": null,
   "id": "001ae10f",
   "metadata": {},
   "outputs": [],
   "source": [
    "Subs['Year']= Subs['Report Start'].dt.year\n",
    "Subs['Month(num)']= Subs['Report Start'].dt.month\n",
    "Subs['Total Paid Subs']=Subs['Amazon Paid Subs']+ Subs['Roku Paid Subs']\n",
    "Subs['Revenue']= Subs['Billing Amount']* Subs['Total Paid Subs']"
   ]
  },
  {
   "cell_type": "code",
   "execution_count": null,
   "id": "6982103a",
   "metadata": {},
   "outputs": [],
   "source": [
    "Cond=[\n",
    "    Subs['Month(num)']==1, Subs['Month(num)']==2, Subs['Month(num)']==3, Subs['Month(num)']==4,\n",
    "    Subs['Month(num)']==5, Subs['Month(num)']==6, Subs['Month(num)']==7, Subs['Month(num)']==8,\n",
    "    Subs['Month(num)']==9, Subs['Month(num)']==10, Subs['Month(num)']==11, Subs['Month(num)']==12\n",
    "]\n",
    "Months_names = ['Jan','Feb','Mar','Apr','May','Jun','Jul','Aug','Sep','Oct','Nov','Dec']\n",
    "\n",
    "Subs['Month'] = np.select(Cond,Months_names, default=np.nan)"
   ]
  },
  {
   "cell_type": "code",
   "execution_count": null,
   "id": "8855e444",
   "metadata": {},
   "outputs": [],
   "source": [
    "Subs=Subs.loc[:,('Year','Month(num)','Month','Subscription','Amazon Paid Subs','Roku Paid Subs','Billing Amount','Total Paid Subs','Revenue')]\n",
    "Subs= Subs.sort_values(by=['Subscription','Year','Month(num)'])"
   ]
  },
  {
   "cell_type": "code",
   "execution_count": null,
   "id": "a418e215",
   "metadata": {},
   "outputs": [],
   "source": [
    "Subs.head(200)"
   ]
  },
  {
   "cell_type": "markdown",
   "id": "9e8e9931",
   "metadata": {},
   "source": [
    "# Amazon Content Data (Importing, Transforming)"
   ]
  },
  {
   "cell_type": "code",
   "execution_count": null,
   "id": "625ce98a",
   "metadata": {},
   "outputs": [],
   "source": [
    "CFilepath='C:/Users/sortiz/Onedrive - Cinedigm/Databases/SVOD/Amazon SVOD DB/Amazon Content/'\n",
    "\n",
    "Channels = ['Screambox', 'Docurama', 'CONtv', 'Dove Channel']\n",
    "CountryF = ['US','UK']"
   ]
  },
  {
   "cell_type": "code",
   "execution_count": null,
   "id": "5bc854be",
   "metadata": {},
   "outputs": [],
   "source": [
    "#importing Content for all subs except Fandor\n",
    "\n",
    "cont_lists = {'2020-04':'2020','2020-05':'2020','2020-06':'2020','2020-07':'2020','2020-08':'2020','2020-09':'2020','2020-10':'2020','2020-11':'2020','2020-12':'2020',\n",
    "         '2021-01':'2021','2021-02':'2021','2021-03':'2021','2021-04':'2021','2021-05':'2021','2021-06':'2021','2021-07':'2021','2021-08':'2021','2021-09':'2021','2021-10':'2021','2021-11':'2021','2021-12':'2021',\n",
    "         '2022-01':'2022','2022-02':'2022','2022-03':'2022','2022-04':'2022','2022-05':'2022','2022-06':'2022','2022-07':'2022'}\n",
    "cl=[]\n",
    "\n",
    "for i in Channels: \n",
    "    for key,value in cont_lists.items():\n",
    "        cl = cl + [CFilepath + i +'/' + value + '/contusg_m_US_' + i + '_' + key + '.csv']\n",
    "        "
   ]
  },
  {
   "cell_type": "code",
   "execution_count": null,
   "id": "843c7661",
   "metadata": {},
   "outputs": [],
   "source": [
    "#importing Content for Fandor (Since UK data is always late)\n",
    "\n",
    "cont_listsF = {'2020-04':'2020','2020-05':'2020','2020-06':'2020','2020-07':'2020','2020-08':'2020','2020-09':'2020','2020-10':'2020','2020-11':'2020','2020-12':'2020',\n",
    "         '2021-01':'2021','2021-02':'2021','2021-03':'2021','2021-04':'2021','2021-05':'2021','2021-06':'2021','2021-07':'2021','2021-08':'2021','2021-09':'2021','2021-10':'2021','2021-11':'2021','2021-12':'2021',\n",
    "         '2022-01':'2022','2022-02':'2022','2022-03':'2022','2022-04':'2022','2022-05':'2022','2022-06':'2022','2022-07':'2022'}\n",
    "clF=[]\n",
    "\n",
    "for i in CountryF: \n",
    "    for key,value in cont_listsF.items():\n",
    "        clF = clF + [CFilepath + 'Fandor/' + i +'/' + value + '/contusg_m_' + i + '_' + 'Fandor' + '_' + key + '.csv']\n",
    "        "
   ]
  },
  {
   "cell_type": "code",
   "execution_count": null,
   "id": "d684bdd6",
   "metadata": {},
   "outputs": [],
   "source": [
    "dfcont = pd.concat([pd.read_csv(file) for file in cl]).reset_index()"
   ]
  },
  {
   "cell_type": "code",
   "execution_count": null,
   "id": "35f653ea",
   "metadata": {},
   "outputs": [],
   "source": [
    "dfFcont = pd.concat([pd.read_csv(file) for file in clF]).reset_index()\n",
    "#Fandor_last= pd.read_csv(CFilepath + 'Fandor/US/2022/contusg_m_US_Fandor_2022-04.csv')\n",
    "#dfFcont = pd.concat([dfFcont, Fandor_last])"
   ]
  },
  {
   "cell_type": "code",
   "execution_count": null,
   "id": "a657410e",
   "metadata": {},
   "outputs": [],
   "source": [
    "dfFcont['Series or Movie Title']= dfFcont['Series or Movie Title'].fillna(dfFcont['Season or Movie Title'])"
   ]
  },
  {
   "cell_type": "code",
   "execution_count": null,
   "id": "e724f9fb",
   "metadata": {},
   "outputs": [],
   "source": [
    "dfFcont= dfFcont.drop(columns=['Report Date','Season or Movie Title'])"
   ]
  },
  {
   "cell_type": "code",
   "execution_count": null,
   "id": "dab5c554",
   "metadata": {},
   "outputs": [],
   "source": [
    "Amz_cont=pd.concat([dfcont,dfFcont])"
   ]
  },
  {
   "cell_type": "code",
   "execution_count": null,
   "id": "2e7fce07",
   "metadata": {},
   "outputs": [],
   "source": [
    "Amz_cont['Report Start']= pd.to_datetime(Amz_cont['Report Start'])\n",
    "Amz_cont.loc[Amz_cont['Subscription']=='Dove Channel','Subscription']='Dove'\n",
    "Amz_cont['Year']= Amz_cont['Report Start'].dt.year\n",
    "Amz_cont['Month']= Amz_cont['Report Start'].dt.month\n",
    "Amz_cont= Amz_cont.loc[:,('Year','Month','Subscription','Vendor SKU','Content Type','Series or Movie Title','Total Minutes Streamed','Total Number of Streams')]\n",
    "Amz_cont.rename(columns={'Vendor SKU':'ID','Content Type':'TV/MOVIE','Series or Movie Title':'Title'}, inplace=True)\n",
    "\n",
    "#There is multiple titles for the same Year/Month because its broken down by Payment type, as in paid subs vs free trial etc.\n",
    "\n",
    "Amz_cont= Amz_cont.groupby(by=['Year','Month','Subscription','ID','TV/MOVIE','Title'])[['Total Minutes Streamed','Total Number of Streams']].agg(sum).reset_index()"
   ]
  },
  {
   "cell_type": "code",
   "execution_count": null,
   "id": "058d62bc",
   "metadata": {},
   "outputs": [],
   "source": [
    "Amz_cont.loc[Amz_cont['Title'].str.contains('false p',case=False)]"
   ]
  },
  {
   "cell_type": "code",
   "execution_count": null,
   "id": "d14819aa",
   "metadata": {},
   "outputs": [],
   "source": [
    "Amz_cont['ID']= Amz_cont['ID'].astype(str) \n",
    "Amz_cont['Title']= Amz_cont['Title'].astype(str) \n",
    "Amz_cont['Subscription']= Amz_cont['Subscription'].astype(str) \n",
    "Amz_cont['TV/MOVIE']= Amz_cont['TV/MOVIE'].astype(str) "
   ]
  },
  {
   "cell_type": "code",
   "execution_count": null,
   "id": "ba8de3c2",
   "metadata": {},
   "outputs": [],
   "source": [
    "# Amz_cont.loc[Amz_cont['Title'].str.contains('the collector',case=False),'ID']='883476025872'\n",
    "# Amz_cont.loc[Amz_cont['Title'].str.contains('A Turtle\\'s Tale',case=False),'ID']='883476075594'"
   ]
  },
  {
   "cell_type": "code",
   "execution_count": null,
   "id": "08e209c4",
   "metadata": {},
   "outputs": [],
   "source": [
    "ACo=Amz_cont.loc[Amz_cont['ID'].str[:3]=='008'].drop_duplicates()"
   ]
  },
  {
   "cell_type": "code",
   "execution_count": null,
   "id": "bb7b5079",
   "metadata": {},
   "outputs": [],
   "source": [
    "ACo['ID2']= ACo['ID'].str[2:]"
   ]
  },
  {
   "cell_type": "code",
   "execution_count": null,
   "id": "84a1e552",
   "metadata": {},
   "outputs": [],
   "source": [
    "ACo"
   ]
  },
  {
   "cell_type": "code",
   "execution_count": null,
   "id": "5335dcd1",
   "metadata": {},
   "outputs": [],
   "source": [
    "Amz_cont=pd.merge(Amz_cont,ACo.loc[:,('ID','ID2')], on='ID', how='left')"
   ]
  },
  {
   "cell_type": "code",
   "execution_count": null,
   "id": "56b1a5bd",
   "metadata": {},
   "outputs": [],
   "source": [
    "Amz_cont['ID']=Amz_cont['ID2'].fillna(Amz_cont['ID'])\n",
    "Amz_cont.drop_duplicates(inplace=True)"
   ]
  },
  {
   "cell_type": "code",
   "execution_count": null,
   "id": "23282e7b",
   "metadata": {},
   "outputs": [],
   "source": [
    "Amz_cont"
   ]
  },
  {
   "cell_type": "code",
   "execution_count": null,
   "id": "ae08fd29",
   "metadata": {},
   "outputs": [],
   "source": [
    "#small fix\n",
    "\n",
    "Amz_cont.loc[Amz_cont['Title']=='Sue Thomas: F.B.Eye','ID']='CEG10019302'"
   ]
  },
  {
   "cell_type": "code",
   "execution_count": null,
   "id": "8d68809a",
   "metadata": {},
   "outputs": [],
   "source": [
    "Amz_cont.loc[Amz_cont['Title'].str.contains('Sue Thomas',case=False)]"
   ]
  },
  {
   "cell_type": "code",
   "execution_count": null,
   "id": "27a5fb9c",
   "metadata": {},
   "outputs": [],
   "source": [
    "Amz_cont= Amz_cont.groupby(by=['Year','Month','Subscription','ID','TV/MOVIE','Title'])[['Total Minutes Streamed','Total Number of Streams']].agg(sum).reset_index()"
   ]
  },
  {
   "cell_type": "code",
   "execution_count": null,
   "id": "2fb6e972",
   "metadata": {},
   "outputs": [],
   "source": [
    "Amz_cont= Amz_cont.loc[:,('Year','Month','Subscription','ID','TV/MOVIE','Title','Total Minutes Streamed','Total Number of Streams')]"
   ]
  },
  {
   "cell_type": "code",
   "execution_count": null,
   "id": "0ef6ad2b",
   "metadata": {},
   "outputs": [],
   "source": [
    "Amz_cont"
   ]
  },
  {
   "cell_type": "code",
   "execution_count": null,
   "id": "964f9f5c-0e6a-4a30-bddd-6e22b1ee54df",
   "metadata": {},
   "outputs": [],
   "source": [
    "Amz_cont.loc[Amz_cont['Title']=='11/11/11','Title']='11_11_11'"
   ]
  },
  {
   "cell_type": "markdown",
   "id": "191d521c-c672-4f9b-84ba-adb61c7c1767",
   "metadata": {},
   "source": [
    "# Search"
   ]
  },
  {
   "cell_type": "code",
   "execution_count": null,
   "id": "12f8f824-8109-4890-a04a-02709da46d83",
   "metadata": {},
   "outputs": [],
   "source": [
    "Amz_cont.loc[(Amz_cont['ID'].str.contains('sue',case=False)),('Subscription','Title','ID','TV/MOVIE')]"
   ]
  },
  {
   "cell_type": "markdown",
   "id": "fbd88e73",
   "metadata": {},
   "source": [
    "# Roku Content Data (Importing, Transforming)"
   ]
  },
  {
   "cell_type": "code",
   "execution_count": null,
   "id": "47cf7f6b",
   "metadata": {},
   "outputs": [],
   "source": [
    "RC_Filepath='C:/Users/sortiz/Onedrive - Cinedigm/Databases/SVOD/Roku SVOD DB/Roku Content/'\n",
    "\n",
    "ContR_0= pd.read_excel(RC_Filepath + 'Roku SVOD 04-2020_02-2022.xlsx', sheet_name='Hours')\n",
    "ContR_1= pd.read_excel(RC_Filepath + 'Roku SVOD 03-2022.xlsx', sheet_name='Hours')\n",
    "ContR_2= pd.read_excel(RC_Filepath + 'Roku SVOD 04-2022.xlsx', sheet_name='Hours')\n",
    "ContR_3= pd.read_excel(RC_Filepath + 'Roku SVOD 05-2022.xlsx', sheet_name='Hours')\n",
    "ContR_4= pd.read_excel(RC_Filepath + 'Roku SVOD 06-2022.xlsx', sheet_name='Hours')\n",
    "ContR_5= pd.read_excel(RC_Filepath + 'Roku SVOD 07-2022.xlsx', sheet_name='Hours')\n",
    "\n",
    "ContR_0S= pd.read_excel(RC_Filepath + 'Roku SVOD 04-2020_02-2022.xlsx', sheet_name='Streams')\n",
    "ContR_1S= pd.read_excel(RC_Filepath + 'Roku SVOD 03-2022.xlsx', sheet_name='Streams')\n",
    "ContR_2S= pd.read_excel(RC_Filepath + 'Roku SVOD 04-2022.xlsx', sheet_name='Streams')\n",
    "ContR_3S= pd.read_excel(RC_Filepath + 'Roku SVOD 05-2022.xlsx', sheet_name='Streams')\n",
    "ContR_4S= pd.read_excel(RC_Filepath + 'Roku SVOD 06-2022.xlsx', sheet_name='Streams')\n",
    "ContR_5S= pd.read_excel(RC_Filepath + 'Roku SVOD 07-2022.xlsx', sheet_name='Streams')"
   ]
  },
  {
   "cell_type": "code",
   "execution_count": null,
   "id": "0d34635e",
   "metadata": {},
   "outputs": [],
   "source": [
    "glossaryAR= pd.read_excel('C:/Users/sortiz/OneDrive - Cinedigm/Databases/SVOD/Roku SVOD DB/Roku_Amazon Glossary.xlsx', sheet_name='Roku_Amazon Glossary')"
   ]
  },
  {
   "cell_type": "code",
   "execution_count": null,
   "id": "0e8669e7",
   "metadata": {},
   "outputs": [],
   "source": [
    "# 04-2020 to 02-2022 Hours\n",
    "ContR_0= ContR_0.loc[:, ~ContR_0.columns.isin(['Content Title','Season Number','Episode Number'])]\n",
    "ContR_0= ContR_0.melt(id_vars=['Channel','TV/MOVIE','Title'], var_name='Date', value_name='Total Hours Viewed')\n",
    "\n",
    "# 03-2022 Hours\n",
    "ContR_1= ContR_1.loc[:, ~ContR_1.columns.isin(['Content Title','Season Number','Episode Number'])]\n",
    "ContR_1= ContR_1.melt(id_vars=['Channel','TV/MOVIE','Title'], var_name='Date', value_name='Total Hours Viewed')\n",
    "\n",
    "# 04-2022 Hours\n",
    "ContR_2= ContR_2.loc[:, ~ContR_2.columns.isin(['Content Title','Season Number','Episode Number'])]\n",
    "ContR_2= ContR_2.melt(id_vars=['Channel','TV/MOVIE','Title'], var_name='Date', value_name='Total Hours Viewed')\n",
    "\n",
    "# 05-2022 Hours\n",
    "ContR_3= ContR_3.loc[:, ~ContR_3.columns.isin(['Content Title','Season Number','Episode Number'])]\n",
    "ContR_3= ContR_3.melt(id_vars=['Channel','TV/MOVIE','Title'], var_name='Date', value_name='Total Hours Viewed')\n",
    "\n",
    "# 06-2022 Hours\n",
    "ContR_4= ContR_4.loc[:, ~ContR_4.columns.isin(['Content Title','Season Number','Episode Number'])]\n",
    "ContR_4= ContR_4.melt(id_vars=['Channel','TV/MOVIE','Title'], var_name='Date', value_name='Total Hours Viewed')\n",
    "\n",
    "# 07-2022 Hours\n",
    "ContR_5= ContR_5.loc[:, ~ContR_5.columns.isin(['Content Title','Season Number','Episode Number'])]\n",
    "ContR_5= ContR_5.melt(id_vars=['Channel','TV/MOVIE','Title'], var_name='Date', value_name='Total Hours Viewed')\n",
    "\n",
    "# STREAMS\n",
    "# 04-2020 to 02-2022 Streams\n",
    "ContR_0S= ContR_0S.loc[:, ~ContR_0S.columns.isin(['Content Title','Season Number','Episode Number'])]\n",
    "ContR_0S= ContR_0S.melt(id_vars=['Channel','TV/MOVIE','Title'], var_name='Date', value_name='Total Number of Streams')\n",
    "\n",
    "# 03-2022 Streams\n",
    "ContR_1S= ContR_1S.loc[:, ~ContR_1S.columns.isin(['Content Title','Season Number','Episode Number'])]\n",
    "ContR_1S= ContR_1S.melt(id_vars=['Channel','TV/MOVIE','Title'], var_name='Date', value_name='Total Number of Streams')\n",
    "\n",
    "# 04-2022 Streams\n",
    "ContR_2S= ContR_2S.loc[:, ~ContR_2S.columns.isin(['Content Title','Season Number','Episode Number'])]\n",
    "ContR_2S= ContR_2S.melt(id_vars=['Channel','TV/MOVIE','Title'], var_name='Date', value_name='Total Number of Streams')\n",
    "\n",
    "# 05-2022 Streams\n",
    "ContR_3S= ContR_3S.loc[:, ~ContR_3S.columns.isin(['Content Title','Season Number','Episode Number'])]\n",
    "ContR_3S= ContR_3S.melt(id_vars=['Channel','TV/MOVIE','Title'], var_name='Date', value_name='Total Number of Streams')\n",
    "\n",
    "# 06-2022 Streams\n",
    "ContR_4S= ContR_4S.loc[:, ~ContR_4S.columns.isin(['Content Title','Season Number','Episode Number'])]\n",
    "ContR_4S= ContR_4S.melt(id_vars=['Channel','TV/MOVIE','Title'], var_name='Date', value_name='Total Number of Streams')\n",
    "\n",
    "# 07-2022 Streams\n",
    "ContR_5S= ContR_5S.loc[:, ~ContR_5S.columns.isin(['Content Title','Season Number','Episode Number'])]\n",
    "ContR_5S= ContR_5S.melt(id_vars=['Channel','TV/MOVIE','Title'], var_name='Date', value_name='Total Number of Streams')"
   ]
  },
  {
   "cell_type": "code",
   "execution_count": null,
   "id": "0efdbf39",
   "metadata": {},
   "outputs": [],
   "source": [
    "Rok_Hrs= pd.concat([ContR_0,ContR_1,ContR_2,ContR_3,ContR_4,ContR_5]).reset_index()\n",
    "Rok_Str= pd.concat([ContR_0S,ContR_1S,ContR_2S,ContR_3S,ContR_4S,ContR_5S]).reset_index()"
   ]
  },
  {
   "cell_type": "code",
   "execution_count": null,
   "id": "3c5783b3",
   "metadata": {},
   "outputs": [],
   "source": [
    "#Hours\n",
    "Rok_Hrs['Date']=pd.to_datetime(Rok_Hrs['Date'])\n",
    "Rok_Hrs['Year']=Rok_Hrs['Date'].dt.year\n",
    "Rok_Hrs['Month']=Rok_Hrs['Date'].dt.month\n",
    "Rok_Hrs['Total Minutes Viewed']= Rok_Hrs['Total Hours Viewed']*60\n",
    "Rok_Hrs.drop(columns=['Total Hours Viewed'], inplace=True)\n",
    "Rok_Hrs.rename(columns={'Channel':'Subscription','Total Minutes Viewed':'Roku Tot Min Viewed'},inplace=True)\n",
    "Rok_Hrs= Rok_Hrs.groupby(by=['Date','Year','Month','Subscription','TV/MOVIE','Title'])[['Roku Tot Min Viewed']].agg(sum).reset_index()\n",
    "\n",
    "#Streams\n",
    "Rok_Str['Date']=pd.to_datetime(Rok_Str['Date'])\n",
    "Rok_Str['Year']=Rok_Str['Date'].dt.year\n",
    "Rok_Str['Month']=Rok_Str['Date'].dt.month\n",
    "Rok_Str.rename(columns={'Channel':'Subscription','Total Number of Streams':'Roku Streams'},inplace=True)\n",
    "Rok_Str= Rok_Str.groupby(by=['Date','Year','Month','Subscription','TV/MOVIE','Title'])[['Roku Streams']].agg(sum).reset_index()"
   ]
  },
  {
   "cell_type": "code",
   "execution_count": null,
   "id": "29eac871",
   "metadata": {},
   "outputs": [],
   "source": [
    "#Merge Minutes And Streams\n",
    "ContR= pd.merge(Rok_Hrs, Rok_Str, on=('Date','Year','Month','Subscription','TV/MOVIE','Title'), how='left')"
   ]
  },
  {
   "cell_type": "code",
   "execution_count": null,
   "id": "2a3fd070-9434-427d-aae8-b9e4402cba9a",
   "metadata": {},
   "outputs": [],
   "source": [
    "ContR.info()"
   ]
  },
  {
   "cell_type": "code",
   "execution_count": null,
   "id": "198d3a87-d292-4822-8161-75106b3365ba",
   "metadata": {},
   "outputs": [],
   "source": [
    "ContR.loc[ContR['Title'].str.contains('false positive',case=False)]"
   ]
  },
  {
   "cell_type": "code",
   "execution_count": null,
   "id": "50bb762c-8008-4ddb-9cf6-83f78740abe1",
   "metadata": {},
   "outputs": [],
   "source": [
    "ContR.fillna(0, inplace=True)"
   ]
  },
  {
   "cell_type": "code",
   "execution_count": null,
   "id": "92fa08bc-9d18-4bd8-ba50-702ae9edf316",
   "metadata": {},
   "outputs": [],
   "source": [
    "ContR.loc[ContR.isna().any(axis=1)]"
   ]
  },
  {
   "cell_type": "code",
   "execution_count": null,
   "id": "de8bd24e-f5fb-40f3-8e9d-18512f5e4d7a",
   "metadata": {},
   "outputs": [],
   "source": [
    "ContR.loc[ContR['Title'].str.contains('Masters of ', na=True),:].tail(5)"
   ]
  },
  {
   "cell_type": "code",
   "execution_count": null,
   "id": "4f22577c",
   "metadata": {},
   "outputs": [],
   "source": [
    "#Small Fixes\n",
    "ContR.loc[ContR['Title'].str.contains('Masters of Horror'),'TV/MOVIE']='TV'\n",
    "ContR.loc[ContR['Title'].str.contains('C.O.P.S.'),'Title']='C.O.P.S'\n",
    "\n",
    "glossaryAR.rename(columns={'Channel':'Subscription','Roku Title':'Title'}, inplace=True)\n",
    "ContR=pd.merge(ContR,glossaryAR, on=['Subscription','TV/MOVIE','Title'], how='left')\n",
    "ContR=ContR.loc[(ContR['Roku Streams']!= 0) | (ContR['Roku Tot Min Viewed']!= 0),:]\n",
    "ContR=ContR[ContR['Roku Streams'].notna()]"
   ]
  },
  {
   "cell_type": "code",
   "execution_count": null,
   "id": "0a3889aa",
   "metadata": {},
   "outputs": [],
   "source": [
    "ContR.drop_duplicates(inplace=True)"
   ]
  },
  {
   "cell_type": "code",
   "execution_count": null,
   "id": "19a86579",
   "metadata": {},
   "outputs": [],
   "source": [
    "ContR['ID']= ContR['ID'].astype(str) \n",
    "ContR['Title']= ContR['Title'].astype(str) \n",
    "ContR['Subscription']= ContR['Subscription'].astype(str) \n",
    "ContR['TV/MOVIE']= ContR['TV/MOVIE'].astype(str) "
   ]
  },
  {
   "cell_type": "code",
   "execution_count": null,
   "id": "aa50be9f",
   "metadata": {},
   "outputs": [],
   "source": [
    "#Small Fix\n",
    "ContR.loc[ContR['Title']=='Sue Thomas F.B.Eye','Title']='Sue Thomas: F.B.Eye'\n",
    "ContR.loc[ContR['Title']=='Sue Thomas, l\\'oeil du FBI','Title']='Sue Thomas: F.B.Eye'\n",
    "ContR.loc[ContR['Title']=='Sue Thomas: F.B.Eye','ID']='CEG10019302'"
   ]
  },
  {
   "cell_type": "code",
   "execution_count": null,
   "id": "154f0a5b-e3fd-4f54-b23e-bea18f1cefe1",
   "metadata": {},
   "outputs": [],
   "source": [
    "ContR.columns"
   ]
  },
  {
   "cell_type": "code",
   "execution_count": null,
   "id": "e1d3eb24",
   "metadata": {},
   "outputs": [],
   "source": [
    "ContR"
   ]
  },
  {
   "cell_type": "code",
   "execution_count": null,
   "id": "13d2eb9b-3749-44ad-ae68-f40268fd2f72",
   "metadata": {},
   "outputs": [],
   "source": [
    "ContR.loc[ContR['Title']=='11/11/11','Title']='11_11_11'"
   ]
  },
  {
   "cell_type": "markdown",
   "id": "3db70b18-1f46-4dad-9ea0-8d73a701ff33",
   "metadata": {},
   "source": [
    "# Search"
   ]
  },
  {
   "cell_type": "code",
   "execution_count": null,
   "id": "91b0c510",
   "metadata": {},
   "outputs": [],
   "source": [
    "ContR.loc[ContR['ID'].str.contains('nan', case=False),('Subscription','TV/MOVIE','Title','ID')].drop_duplicates()"
   ]
  },
  {
   "cell_type": "markdown",
   "id": "1edb72b1",
   "metadata": {},
   "source": [
    "# Merge Both AMAZON and ROKU"
   ]
  },
  {
   "cell_type": "code",
   "execution_count": null,
   "id": "6ede69e3",
   "metadata": {},
   "outputs": [],
   "source": [
    "Content= pd.merge(Amz_cont, ContR.loc[:,('Year','Month','Subscription','TV/MOVIE','ID','Title','Roku Tot Min Viewed','Roku Streams')], on=['Subscription','Year','Month','TV/MOVIE','ID'], how='outer')"
   ]
  },
  {
   "cell_type": "code",
   "execution_count": null,
   "id": "8991b543",
   "metadata": {
    "scrolled": true
   },
   "outputs": [],
   "source": [
    "Content"
   ]
  },
  {
   "cell_type": "code",
   "execution_count": null,
   "id": "635aedb6",
   "metadata": {},
   "outputs": [],
   "source": [
    "Content.loc[Content['ID']=='CEG10019302',:]"
   ]
  },
  {
   "cell_type": "code",
   "execution_count": null,
   "id": "d5092aac",
   "metadata": {},
   "outputs": [],
   "source": [
    "Content.rename(columns={'Total Minutes Streamed':'Amzn Min Streamed','Total Number of Streams':'Amzn Streams','Roku Tot Min Viewed':'Roku Min Streamed'}, inplace = True)\n",
    "Content['Title']=Content['Title_x'].fillna(Content['Title_y'])\n",
    "\n",
    "Content['Amzn Min Streamed']= Content['Amzn Min Streamed'].fillna(0)\n",
    "Content['Amzn Streams']= Content['Amzn Streams'].fillna(0)\n",
    "Content['Roku Min Streamed']= Content['Roku Min Streamed'].fillna(0)\n",
    "Content['Roku Streams']= Content['Roku Streams'].fillna(0)\n",
    "\n",
    "\n",
    "Content['Total Min Streamed']= Content['Amzn Min Streamed']+ Content['Roku Min Streamed']\n",
    "Content['Total Streams']= Content['Amzn Streams']+ Content['Roku Streams']\n",
    "\n",
    "Content= Content.loc[:,('Year','Month','Subscription','ID','TV/MOVIE','Title','Amzn Min Streamed','Amzn Streams','Roku Min Streamed','Roku Streams','Total Min Streamed','Total Streams')]\n",
    "Content=Content.sort_values(by=['Subscription','Title']).reset_index(drop=True)"
   ]
  },
  {
   "cell_type": "code",
   "execution_count": null,
   "id": "f17aac3b",
   "metadata": {},
   "outputs": [],
   "source": [
    "Content"
   ]
  },
  {
   "cell_type": "code",
   "execution_count": null,
   "id": "0fcb701a",
   "metadata": {},
   "outputs": [],
   "source": [
    "#Content['TITLE']=Content.groupby('ID')['Title'].transform('first')\n",
    "Content['ID']= Content['ID'].astype(str) \n",
    "Content['Title']= Content['Title'].astype(str) \n",
    "Content['Subscription']= Content['Subscription'].astype(str) \n",
    "Content['TV/MOVIE']= Content['TV/MOVIE'].astype(str) "
   ]
  },
  {
   "cell_type": "code",
   "execution_count": null,
   "id": "b10e6428",
   "metadata": {},
   "outputs": [],
   "source": [
    "#Content['Title']= Content.groupby('ID')['Title'].transform('first')"
   ]
  },
  {
   "cell_type": "code",
   "execution_count": null,
   "id": "e85a72de",
   "metadata": {},
   "outputs": [],
   "source": [
    "Content.loc[Content['ID']=='CEG10019302',:]"
   ]
  },
  {
   "cell_type": "code",
   "execution_count": null,
   "id": "63251641",
   "metadata": {},
   "outputs": [],
   "source": [
    "Content.loc[Content['Title'].str.contains('inspector', case=False)]"
   ]
  },
  {
   "cell_type": "markdown",
   "id": "f9b1fd27",
   "metadata": {},
   "source": [
    "# Content without ID, Groups the episodes together"
   ]
  },
  {
   "cell_type": "code",
   "execution_count": null,
   "id": "7d101468",
   "metadata": {},
   "outputs": [],
   "source": [
    "# Small Fix\n",
    "\n",
    "Content.loc[Content['ID']=='1000000002887','Title']='Masters of Horror'"
   ]
  },
  {
   "cell_type": "code",
   "execution_count": null,
   "id": "fb6123c5",
   "metadata": {},
   "outputs": [],
   "source": [
    "Content2=Content.loc[:,:]\n",
    "Content2=Content2.groupby(by=['Subscription','Year','Month','TV/MOVIE','ID']).agg(sum).reset_index()"
   ]
  },
  {
   "cell_type": "code",
   "execution_count": null,
   "id": "9b0d117f",
   "metadata": {},
   "outputs": [],
   "source": [
    "Content2.loc[Content2['ID']=='883476075594',:]"
   ]
  },
  {
   "cell_type": "code",
   "execution_count": null,
   "id": "c1449fe6",
   "metadata": {},
   "outputs": [],
   "source": [
    "Idt=Content.loc[:,('Subscription','ID','Title','TV/MOVIE')]"
   ]
  },
  {
   "cell_type": "code",
   "execution_count": null,
   "id": "f5a8e50f",
   "metadata": {},
   "outputs": [],
   "source": [
    "Idt.drop_duplicates(inplace=True)"
   ]
  },
  {
   "cell_type": "code",
   "execution_count": null,
   "id": "38ee77c6",
   "metadata": {},
   "outputs": [],
   "source": [
    "Idt.drop_duplicates(subset=('Subscription','TV/MOVIE','ID'), keep='first', inplace=True)"
   ]
  },
  {
   "cell_type": "code",
   "execution_count": null,
   "id": "3c38fec5",
   "metadata": {},
   "outputs": [],
   "source": [
    "Idt"
   ]
  },
  {
   "cell_type": "code",
   "execution_count": null,
   "id": "2236998a",
   "metadata": {},
   "outputs": [],
   "source": [
    "Content2=pd.merge(Content2,Idt, on=('Subscription','TV/MOVIE','ID'), how='left')"
   ]
  },
  {
   "cell_type": "code",
   "execution_count": null,
   "id": "330b8525",
   "metadata": {},
   "outputs": [],
   "source": [
    "Content2=Content2.groupby(by=['Year','Month','Subscription','TV/MOVIE','Title']).agg(sum).reset_index()\n",
    "\n",
    "Idt2=Content.loc[:,('Subscription','ID','Title','TV/MOVIE')]\n",
    "Idt2.drop_duplicates(inplace=True)\n",
    "Idt2.drop_duplicates(subset=('Subscription','TV/MOVIE','Title'), keep='last', inplace=True)\n",
    "\n",
    "Content2=pd.merge(Content2,Idt2, on=('Subscription','TV/MOVIE','Title'), how='left')"
   ]
  },
  {
   "cell_type": "code",
   "execution_count": null,
   "id": "0d5bfe0a",
   "metadata": {},
   "outputs": [],
   "source": [
    "Idt2"
   ]
  },
  {
   "cell_type": "code",
   "execution_count": null,
   "id": "f55a2cfc",
   "metadata": {},
   "outputs": [],
   "source": [
    "Content2"
   ]
  },
  {
   "cell_type": "code",
   "execution_count": null,
   "id": "c8ddfccd",
   "metadata": {},
   "outputs": [],
   "source": [
    "Cond1=[\n",
    "    Content2['Month']==1, Content2['Month']==2, Content2['Month']==3, Content2['Month']==4,\n",
    "    Content2['Month']==5, Content2['Month']==6, Content2['Month']==7, Content2['Month']==8,\n",
    "    Content2['Month']==9, Content2['Month']==10, Content2['Month']==11, Content2['Month']==12\n",
    "]\n",
    "Months_names1 = ['Jan','Feb','Mar','Apr','May','Jun','Jul','Aug','Sep','Oct','Nov','Dec']\n",
    "\n",
    "Content2['Month Abv'] = np.select(Cond1,Months_names1, default=np.nan)"
   ]
  },
  {
   "cell_type": "code",
   "execution_count": null,
   "id": "a3d3bdff",
   "metadata": {},
   "outputs": [],
   "source": [
    "Con2= Content2.loc[:,:]"
   ]
  },
  {
   "cell_type": "code",
   "execution_count": null,
   "id": "17ab15a8",
   "metadata": {},
   "outputs": [],
   "source": [
    "Con2.loc[Con2['Title'].str.contains('sue thomas', case=False),:]\n",
    "#Con2.loc[Con2['ID']=='883476075594',:]"
   ]
  },
  {
   "cell_type": "code",
   "execution_count": null,
   "id": "9814b376",
   "metadata": {},
   "outputs": [],
   "source": [
    "Con2.loc[Con2['ID'].str[:2]=='00']"
   ]
  },
  {
   "cell_type": "code",
   "execution_count": null,
   "id": "0e589a3d",
   "metadata": {},
   "outputs": [],
   "source": [
    "Content2['Amzn Min/Stream']= Content2['Amzn Min Streamed']/ Content2['Amzn Streams']\n",
    "Content2['Roku Min/Stream']= Content2['Roku Min Streamed']/ Content2['Roku Streams']\n",
    "Content2['Min/Stream']= Content2['Total Min Streamed']/ Content2['Total Streams']"
   ]
  },
  {
   "cell_type": "markdown",
   "id": "3d269ec6",
   "metadata": {},
   "source": [
    "# Rev, Percentile, Total Channel Minutes"
   ]
  },
  {
   "cell_type": "code",
   "execution_count": null,
   "id": "63e4ffad",
   "metadata": {},
   "outputs": [],
   "source": [
    "#Total Minutes per Month\n",
    "TotM=Content2.groupby(by=['Subscription','Year','Month'])[['Total Min Streamed']].agg(sum).reset_index()\n",
    "\n",
    "#Total Rev\n",
    "RevM=Subs.loc[:,('Year','Month(num)','Subscription','Revenue')]\n",
    "\n",
    "#Merge\n",
    "TotMRevM=pd.merge(TotM,RevM, left_on=('Subscription','Year','Month'), right_on=('Subscription','Year','Month(num)'), how='left')"
   ]
  },
  {
   "cell_type": "code",
   "execution_count": null,
   "id": "8f279a5e",
   "metadata": {},
   "outputs": [],
   "source": [
    "TotMRevM.rename(columns={'Total Min Streamed':'Tot Sub Month Min','Revenue':'Tot Sub Month Rev'}, inplace=True)\n",
    "TotMRevM= TotMRevM.loc[:,('Subscription','Year','Month','Tot Sub Month Min','Tot Sub Month Rev')]"
   ]
  },
  {
   "cell_type": "code",
   "execution_count": null,
   "id": "dcd97481",
   "metadata": {},
   "outputs": [],
   "source": [
    "TotMRevM"
   ]
  },
  {
   "cell_type": "code",
   "execution_count": null,
   "id": "de05c5d0",
   "metadata": {},
   "outputs": [],
   "source": [
    "Content2= pd.merge(Content2, TotMRevM, on=('Subscription','Year','Month'), how='left')"
   ]
  },
  {
   "cell_type": "code",
   "execution_count": null,
   "id": "44e252c2",
   "metadata": {},
   "outputs": [],
   "source": [
    "Content2['PerTM']=Content2['Total Min Streamed']/Content2['Tot Sub Month Min']\n",
    "Content2['Content Month Rev']=Content2['PerTM']*Content2['Tot Sub Month Rev']\n",
    "Content2['Percentile Rank (Min)']=Content2.groupby(by=['Subscription','Year','Month'])['Total Min Streamed'].rank(pct=True)"
   ]
  },
  {
   "cell_type": "code",
   "execution_count": null,
   "id": "1455a8db",
   "metadata": {},
   "outputs": [],
   "source": [
    "Content2= Content2.loc[:,('Subscription','Year','Month','Month Abv','ID','TV/MOVIE','Title',\n",
    "                          'Amzn Min Streamed','Amzn Streams','Amzn Min/Stream','Roku Min Streamed','Roku Streams','Roku Min/Stream',\n",
    "                          'Total Min Streamed','Percentile Rank (Min)','Total Streams','Min/Stream','Content Month Rev')]"
   ]
  },
  {
   "cell_type": "code",
   "execution_count": null,
   "id": "d9e81b0e",
   "metadata": {},
   "outputs": [],
   "source": [
    "Content2.head(20)"
   ]
  },
  {
   "cell_type": "markdown",
   "id": "77950f4b",
   "metadata": {},
   "source": [
    "# Trend Month by Month"
   ]
  },
  {
   "cell_type": "code",
   "execution_count": null,
   "id": "16818374",
   "metadata": {},
   "outputs": [],
   "source": [
    "Content3= Content2.loc[:,:]"
   ]
  },
  {
   "cell_type": "code",
   "execution_count": null,
   "id": "279d023c",
   "metadata": {},
   "outputs": [],
   "source": [
    "Content3['Date']= Content3['Month Abv']+'-'+Content3['Year'].astype(str)"
   ]
  },
  {
   "cell_type": "code",
   "execution_count": null,
   "id": "5b88d652",
   "metadata": {},
   "outputs": [],
   "source": [
    "Content2"
   ]
  },
  {
   "cell_type": "code",
   "execution_count": null,
   "id": "d4a65795",
   "metadata": {},
   "outputs": [],
   "source": [
    "CMSS= Content3.pivot(index=['Subscription','ID','TV/MOVIE','Title'], columns='Date', values=['Total Min Streamed']).reset_index()\n",
    "CMSSM= Content3.pivot(index=['Subscription','ID','TV/MOVIE','Title'], columns='Date', values=['Min/Stream']).reset_index()\n",
    "RPP= Content3.pivot(index=['Subscription','ID','TV/MOVIE','Title'], columns='Date', values=['Percentile Rank (Min)']).reset_index()"
   ]
  },
  {
   "cell_type": "code",
   "execution_count": null,
   "id": "426a45ec",
   "metadata": {},
   "outputs": [],
   "source": [
    "CMSS['Metric']='Minutes Streamed'\n",
    "CMSSM['Metric']='Min/Stream'\n",
    "RPP['Metric']='Percentile Rank (Min)'"
   ]
  },
  {
   "cell_type": "code",
   "execution_count": null,
   "id": "0c3e0f58",
   "metadata": {},
   "outputs": [],
   "source": [
    "CMSS"
   ]
  },
  {
   "cell_type": "code",
   "execution_count": null,
   "id": "0f3446f0",
   "metadata": {},
   "outputs": [],
   "source": [
    "ColumnD=['Apr-20','Apr-21','Apr-22','Aug-20','Aug-21','Dec-20','Dec-21','Feb-21','Feb-22','Jan-21','Jan-22','Jul-20','Jul-21','Jul-22',\n",
    "         'Jun-20','Jun-21','Jun-22','Mar-21','Mar-22','May-20','May-21','May-22','Nov-20','Nov-21','Oct-20','Oct-21','Sep-20','Sep-21']\n",
    "\n",
    "CMSS.columns=['Subscription','ID','TV/MOVIE','Title']+ColumnD+['Metric']\n",
    "CMSSM.columns=['Subscription','ID','TV/MOVIE','Title']+ColumnD+['Metric']\n",
    "RPP.columns=['Subscription','ID','TV/MOVIE','Title']+ColumnD+['Metric']\n",
    "\n",
    "CMSS=CMSS.loc[:,('Subscription','ID','TV/MOVIE','Title','Apr-20','May-20','Jun-20','Jul-20','Aug-20','Sep-20','Oct-20','Nov-20','Dec-20',\n",
    "                 'Jan-21','Feb-21','Mar-21','Apr-21','May-21','Jun-21','Jul-21','Aug-21','Sep-21','Oct-21','Nov-21','Dec-21',\n",
    "                 'Jan-22','Feb-22','Mar-22','Apr-22','May-22','Jun-22','Jul-22','Metric')]\n",
    "\n",
    "CMSSM=CMSSM.loc[:,('Subscription','ID','TV/MOVIE','Title','Apr-20','May-20','Jun-20','Jul-20','Aug-20','Sep-20','Oct-20','Nov-20','Dec-20',\n",
    "                   'Jan-21','Feb-21','Mar-21','Apr-21','May-21','Jun-21','Jul-21','Aug-21','Sep-21','Oct-21','Nov-21','Dec-21',\n",
    "                   'Jan-22','Feb-22','Mar-22','Apr-22','May-22','Jun-22','Jul-22','Metric')]\n",
    "\n",
    "RPP=RPP.loc[:,('Subscription','ID','TV/MOVIE','Title','Apr-20','May-20','Jun-20','Jul-20','Aug-20','Sep-20','Oct-20','Nov-20','Dec-20',\n",
    "               'Jan-21','Feb-21','Mar-21','Apr-21','May-21','Jun-21','Jul-21','Aug-21','Sep-21','Oct-21','Nov-21','Dec-21',\n",
    "               'Jan-22','Feb-22','Mar-22','Apr-22','May-22','Jun-22','Jul-22','Metric')]"
   ]
  },
  {
   "cell_type": "code",
   "execution_count": null,
   "id": "6c72b229",
   "metadata": {},
   "outputs": [],
   "source": [
    "CM=pd.concat([CMSS,CMSSM,RPP])"
   ]
  },
  {
   "cell_type": "code",
   "execution_count": null,
   "id": "2e871e4a",
   "metadata": {},
   "outputs": [],
   "source": [
    "#Average\n",
    "CM['Average']=CM.loc[:,'Apr-20':'Jul-22'].mean(axis=1)\n",
    "\n",
    "#Average Monthly Difference\n",
    "CM['F']=CM.loc[:,'Apr-20':'Jul-22'].fillna(method='bfill',axis=1).iloc[:,0]\n",
    "CM['L']=CM.loc[:,'Apr-20':'Jul-22'].fillna(method='ffill',axis=1).iloc[:,-1]\n",
    "CM['C']=CM.loc[:,'Apr-20':'Jul-22'].count(axis=1)\n",
    "\n",
    "CM['Trend']= (CM['L']-CM['F'])/(CM['C']-1)"
   ]
  },
  {
   "cell_type": "code",
   "execution_count": null,
   "id": "34e9c677",
   "metadata": {},
   "outputs": [],
   "source": [
    "CM=CM.loc[:,('Subscription','ID','TV/MOVIE','Title','Apr-20','May-20','Jun-20','Jul-20','Aug-20','Sep-20','Oct-20','Nov-20','Dec-20',\n",
    "             'Jan-21','Feb-21','Mar-21','Apr-21','May-21','Jun-21','Jul-21','Aug-21','Sep-21','Oct-21','Nov-21','Dec-21',\n",
    "             'Jan-22','Feb-22','Mar-22','Apr-22','May-22','Jun-22','Jul-22','Metric','Average','Trend')]"
   ]
  },
  {
   "cell_type": "code",
   "execution_count": null,
   "id": "cd49d332",
   "metadata": {},
   "outputs": [],
   "source": [
    "CM.head(-100)"
   ]
  },
  {
   "cell_type": "markdown",
   "id": "e11e1b92",
   "metadata": {},
   "source": [
    "# Adding Total Minutes and Streams to Sub table"
   ]
  },
  {
   "cell_type": "code",
   "execution_count": null,
   "id": "6844f295",
   "metadata": {},
   "outputs": [],
   "source": [
    "C3= Content2.loc[:,('Subscription','Year','Month','Total Min Streamed','Total Streams','Amzn Min Streamed','Amzn Streams','Roku Min Streamed','Roku Streams')]\n",
    "C3= C3.groupby(by=['Subscription','Year','Month',])[['Total Min Streamed','Total Streams','Amzn Min Streamed','Amzn Streams','Roku Min Streamed','Roku Streams']].agg(sum).reset_index()\n",
    "Subs= pd.merge(Subs,C3, left_on=('Subscription','Year','Month(num)'), right_on=('Subscription','Year','Month'), how='left')\n",
    "Subs.rename(columns={'Month_x':'Month'}, inplace=True)\n",
    "# Subs= Subs.loc[:,('Subscription','Year','Month(num)','Month','Amazon Paid Subs','Amzn Min Streamed','Amzn Streams',\n",
    "#                  'Roku Paid Subs','Roku Min Streamed','Roku Streams','Billing Amount','Total Paid Subs','Revenue','Total Min Streamed','Total Streams')]\n",
    "\n",
    "Subs['Amzn Min/Stream']= Subs['Amzn Min Streamed']/Subs['Amzn Streams']\n",
    "Subs['Roku Min/Stream']= Subs['Roku Min Streamed']/Subs['Roku Streams']\n",
    "Subs['Avg Min/Stream']= Subs['Total Min Streamed']/Subs['Total Streams']\n",
    "\n",
    "Subs['Amzn Min/Sub']= Subs['Amzn Min Streamed']/Subs['Amazon Paid Subs']\n",
    "Subs['Roku Min/Sub']= Subs['Roku Min Streamed']/Subs['Roku Paid Subs']\n",
    "Subs['Min/Sub']= Subs['Total Min Streamed']/Subs['Total Paid Subs']"
   ]
  },
  {
   "cell_type": "code",
   "execution_count": null,
   "id": "7f781c26",
   "metadata": {},
   "outputs": [],
   "source": [
    "Content2"
   ]
  },
  {
   "cell_type": "code",
   "execution_count": null,
   "id": "84f62429",
   "metadata": {},
   "outputs": [],
   "source": [
    "C3"
   ]
  },
  {
   "cell_type": "code",
   "execution_count": null,
   "id": "ed55457d",
   "metadata": {},
   "outputs": [],
   "source": [
    "Subs['Amzn Rev']=Subs['Amazon Paid Subs']*Subs['Billing Amount']\n",
    "Subs['Roku Rev']=Subs['Roku Paid Subs']*Subs['Billing Amount']\n",
    "\n",
    "Subs= Subs.loc[:,('Subscription','Year','Month(num)','Month','Billing Amount',\n",
    "                  'Amazon Paid Subs','Amzn Rev','Amzn Min Streamed','Amzn Streams','Amzn Min/Stream','Amzn Min/Sub',\n",
    "                  'Roku Paid Subs','Roku Rev','Roku Min Streamed','Roku Streams','Roku Min/Stream','Roku Min/Sub',\n",
    "                  'Total Paid Subs','Revenue','Total Min Streamed','Total Streams','Avg Min/Stream','Min/Sub')]"
   ]
  },
  {
   "cell_type": "code",
   "execution_count": null,
   "id": "2f78aee4",
   "metadata": {},
   "outputs": [],
   "source": [
    "Subs.head(200)"
   ]
  },
  {
   "cell_type": "markdown",
   "id": "30e607df",
   "metadata": {},
   "source": [
    "# REVENUE"
   ]
  },
  {
   "cell_type": "code",
   "execution_count": null,
   "id": "9fd9b513",
   "metadata": {},
   "outputs": [],
   "source": [
    "Rev= Content2.loc[:,('Subscription','Year','Month','ID','Date','TV/MOVIE','Title','Content Month Rev')]"
   ]
  },
  {
   "cell_type": "code",
   "execution_count": null,
   "id": "a0658c7f",
   "metadata": {},
   "outputs": [],
   "source": [
    "Rev1= Rev.pivot(index=['Subscription','ID','TV/MOVIE','Title'], columns='Date', values=['Content Month Rev']).reset_index()"
   ]
  },
  {
   "cell_type": "code",
   "execution_count": null,
   "id": "21f6fbe8",
   "metadata": {},
   "outputs": [],
   "source": [
    "Rev1.columns=['Subscription','ID','TV/MOVIE','Title']+ColumnD\n",
    "\n",
    "Rev1=Rev1.loc[:,('Subscription','ID','TV/MOVIE','Title','Apr-20','May-20','Jun-20','Jul-20','Aug-20','Sep-20','Oct-20','Nov-20','Dec-20',\n",
    "                 'Jan-21','Feb-21','Mar-21','Apr-21','May-21','Jun-21','Jul-21','Aug-21','Sep-21','Oct-21','Nov-21','Dec-21',\n",
    "                 'Jan-22','Feb-22','Mar-22','Apr-22','May-22','Jun-22','Jul-22')]\n",
    "\n",
    "#Average\n",
    "Rev1['Average']=Rev1.loc[:,'Apr-20':'Jul-22'].mean(axis=1)\n",
    "\n",
    "#Average Monthly Difference\n",
    "Rev1['F']=Rev1.loc[:,'Apr-20':'Jul-22'].fillna(method='bfill',axis=1).iloc[:,0]\n",
    "Rev1['L']=Rev1.loc[:,'Apr-20':'Jul-22'].fillna(method='ffill',axis=1).iloc[:,-1]\n",
    "Rev1['C']=Rev1.loc[:,'Apr-20':'Jul-22'].count(axis=1)\n",
    "\n",
    "Rev1['Trend']= (Rev1['L']-Rev1['F'])/(Rev1['C']-1)\n",
    "\n",
    "\n",
    "\n",
    "Rev1=Rev1.loc[:,('Subscription','ID','TV/MOVIE','Title','Apr-20','May-20','Jun-20','Jul-20','Aug-20','Sep-20','Oct-20','Nov-20','Dec-20',\n",
    "                 'Jan-21','Feb-21','Mar-21','Apr-21','May-21','Jun-21','Jul-21','Aug-21','Sep-21',\n",
    "                 'Oct-21','Nov-21','Dec-21','Jan-22','Feb-22','Mar-22','Apr-22','May-22','Jun-22','Jul-22','Average','Trend')]"
   ]
  },
  {
   "cell_type": "code",
   "execution_count": null,
   "id": "4c2cfc5d",
   "metadata": {},
   "outputs": [],
   "source": [
    "Rev1.rename(columns={'Average':'Roku+Amzn monthly Rev Avg'},inplace=True)\n",
    "Rev1['All Platforms monthly Rev Avg (10/8 estimate)']= Rev1['Roku+Amzn monthly Rev Avg']*(10/8)"
   ]
  },
  {
   "cell_type": "code",
   "execution_count": null,
   "id": "7e8e4d72",
   "metadata": {},
   "outputs": [],
   "source": [
    "TotMRevM['Date']= TotMRevM['Month'].astype(str)+'-'+TotMRevM['Year'].astype(str)\n",
    "TotMRevM= TotMRevM.pivot(index=['Subscription'], columns='Date', values=['Tot Sub Month Rev']).reset_index()"
   ]
  },
  {
   "cell_type": "code",
   "execution_count": null,
   "id": "d155369f",
   "metadata": {},
   "outputs": [],
   "source": [
    "TotMRevM"
   ]
  },
  {
   "cell_type": "code",
   "execution_count": null,
   "id": "29535c54",
   "metadata": {},
   "outputs": [],
   "source": [
    "TotMRevM.columns=['Subscription','1-2021','1-2022','10-2020','10-2021','11-2020','11-2021','12-2020','12-2021','2-2021','2-2022','3-2021','3-2022',\n",
    "                  '4-2020','4-2021','4-2022','5-2020','5-2021','5-2022','6-2020','6-2021','6-2022','7-2020','7-2021','7-2022','8-2020','8-2021','9-2020','9-2021']\n",
    "TotMRevM=TotMRevM.loc[:,('Subscription','4-2020','5-2020','6-2020','7-2020','8-2020','9-2020','10-2020','11-2020','12-2020',\n",
    "                         '1-2021','2-2021','3-2021','4-2021','5-2021','6-2021','7-2021','8-2021','9-2021','10-2021','11-2021','12-2021',\n",
    "                         '1-2022','2-2022','3-2022','4-2022','5-2022','6-2022','7-2022')]"
   ]
  },
  {
   "cell_type": "code",
   "execution_count": null,
   "id": "062b28d0",
   "metadata": {},
   "outputs": [],
   "source": [
    "# TotMRevM.insert(1,'4-2020',[136466.52,52210.37,132389.69,178532.55,29715.45])\n",
    "# TotMRevM.insert(2,'5-2020',[149580.24,56756.26,147564.28,193175.85,39071.7])\n",
    "# TotMRevM.insert(3,'6-2020',[175413.47,65089.56,167938.45,224461.44,47884.04])\n",
    "# TotMRevM.insert(4,'7-2020',[186725.8,68183.36,173996.31,224058.45,49321.16])\n",
    "# TotMRevM.insert(5,'8-2020',[186496.26,69326.07,184415.43,222430.53,48732.34])\n",
    "# TotMRevM.insert(6,'9-2020',[184450.36,74226.25,185143.97,222175.17,49430.94])\n",
    "# TotMRevM.insert(7,'10-2020',[187010.23,79745.19,187673.9,226815.54,55149.48])\n",
    "# TotMRevM.insert(8,'11-2020',[193442.34,79790.1,189999.24,229967.64,54076.63])\n",
    "# TotMRevM.insert(9,'12-2020',[193846.53,79770.14,194155.91,231846.93,58956.85])"
   ]
  },
  {
   "cell_type": "code",
   "execution_count": null,
   "id": "6b8551fe",
   "metadata": {},
   "outputs": [],
   "source": [
    "TotMRevM.loc[-1]=['Number',1,2,3,4,5,6,7,8,9,10,11,12,13,14,15,16,17,18,19,20,21,22,23,24,25,26,27,28]"
   ]
  },
  {
   "cell_type": "code",
   "execution_count": null,
   "id": "2704e6df",
   "metadata": {},
   "outputs": [],
   "source": [
    "TotMRevM"
   ]
  },
  {
   "cell_type": "code",
   "execution_count": null,
   "id": "4c6253d7",
   "metadata": {},
   "outputs": [],
   "source": [
    "def linear_regression_int(x, y):     \n",
    "    N = len(x)\n",
    "    x_mean = x.mean()\n",
    "    y_mean = y.mean()\n",
    "    \n",
    "    B1_num = ((x - x_mean) * (y - y_mean)).sum()\n",
    "    B1_den = ((x - x_mean)**2).sum()\n",
    "    Slope = B1_num / B1_den\n",
    "    \n",
    "    B0 = y_mean - (Slope*x_mean)\n",
    "    \n",
    "    \n",
    "    return (B0)"
   ]
  },
  {
   "cell_type": "code",
   "execution_count": null,
   "id": "3dbb78fc",
   "metadata": {},
   "outputs": [],
   "source": [
    "def linear_regression_slope(x, y):     \n",
    "    N = len(x)\n",
    "    x_mean = x.mean()\n",
    "    y_mean = y.mean()\n",
    "    \n",
    "    B1_num = ((x - x_mean) * (y - y_mean)).sum()\n",
    "    B1_den = ((x - x_mean)**2).sum()\n",
    "    \n",
    "    \n",
    "    Slope = B1_num / B1_den\n",
    "    \n",
    "    B0 = y_mean - (Slope*x_mean)\n",
    "    \n",
    "    \n",
    "    return (Slope)"
   ]
  },
  {
   "cell_type": "code",
   "execution_count": null,
   "id": "8a2b800c",
   "metadata": {},
   "outputs": [],
   "source": [
    "TotMRevM"
   ]
  },
  {
   "cell_type": "code",
   "execution_count": null,
   "id": "a83b19d4",
   "metadata": {},
   "outputs": [],
   "source": [
    "RevP= TotMRevM.set_index('Subscription').T\n",
    "RevP.reset_index(inplace=True)\n",
    "RevP.columns=['Date','CONtv','Docurama','Dove','Fandor','Screambox','Number']"
   ]
  },
  {
   "cell_type": "code",
   "execution_count": null,
   "id": "e040b57f",
   "metadata": {},
   "outputs": [],
   "source": [
    "RevP"
   ]
  },
  {
   "cell_type": "code",
   "execution_count": null,
   "id": "d46fe6b7",
   "metadata": {},
   "outputs": [],
   "source": [
    "linear_regression_slope(RevP['Number'],RevP['Fandor'])"
   ]
  },
  {
   "cell_type": "code",
   "execution_count": null,
   "id": "2f1d5d1f",
   "metadata": {},
   "outputs": [],
   "source": [
    "RevPrj= pd.DataFrame([\n",
    "    ['CONtv',linear_regression_int(RevP['Number'],RevP['CONtv']),linear_regression_slope(RevP['Number'],RevP['CONtv'])],\n",
    "    ['Docurama',linear_regression_int(RevP['Number'],RevP['Docurama']),linear_regression_slope(RevP['Number'],RevP['Docurama'])],\n",
    "    ['Dove',linear_regression_int(RevP['Number'],RevP['Dove']),linear_regression_slope(RevP['Number'],RevP['Dove'])],\n",
    "    ['Fandor',linear_regression_int(RevP['Number'],RevP['Fandor']),linear_regression_slope(RevP['Number'],RevP['Fandor'])],\n",
    "    ['Screambox',linear_regression_int(RevP['Number'],RevP['Screambox']),linear_regression_slope(RevP['Number'],RevP['Screambox'])]\n",
    "    \n",
    "], \n",
    "                     columns=['Subscription','intercept','Slope',])"
   ]
  },
  {
   "cell_type": "code",
   "execution_count": null,
   "id": "5f19bc5e",
   "metadata": {},
   "outputs": [],
   "source": [
    "RevPrj"
   ]
  },
  {
   "cell_type": "code",
   "execution_count": null,
   "id": "7de651cb",
   "metadata": {},
   "outputs": [],
   "source": [
    "Mon1=RevP.iloc[-1,6]+1\n",
    "Year1=RevP.iloc[-1,6]+12\n",
    "Year2=RevP.iloc[-1,6]+24\n",
    "Year3=RevP.iloc[-1,6]+36\n",
    "Year4=RevP.iloc[-1,6]+48\n",
    "\n",
    "\n",
    "ProjTable=pd.DataFrame([\n",
    "    [RevP['Number'].iloc[-2], RevP.iloc[-2]['Date'], RevP.iloc[-2]['CONtv'], RevP.iloc[-2]['Docurama'], RevP.iloc[-2]['Dove'], RevP.iloc[-2]['Fandor'], RevP.iloc[-2]['Screambox'] ],\n",
    "    [RevP['Number'].iloc[-1], RevP.iloc[-1]['Date'], RevP.iloc[-1]['CONtv'], RevP.iloc[-1]['Docurama'], RevP.iloc[-1]['Dove'], RevP.iloc[-1]['Fandor'], RevP.iloc[-1]['Screambox']  ],\n",
    "    # 1 Month later\n",
    "    [Mon1 , '8-2022',   (Mon1*RevPrj.loc[RevPrj['Subscription']=='CONtv','Slope'].values[0]) + RevPrj.loc[RevPrj['Subscription']=='CONtv','intercept'].values[0],\n",
    "                     (Mon1*RevPrj.loc[RevPrj['Subscription']=='Docurama','Slope'].values[0]) + RevPrj.loc[RevPrj['Subscription']=='Docurama','intercept'].values[0],\n",
    "                     (Mon1*RevPrj.loc[RevPrj['Subscription']=='Dove','Slope'].values[0]) + RevPrj.loc[RevPrj['Subscription']=='Dove','intercept'].values[0],\n",
    "                     (Mon1*RevPrj.loc[RevPrj['Subscription']=='Fandor','Slope'].values[0]) + RevPrj.loc[RevPrj['Subscription']=='Fandor','intercept'].values[0],\n",
    "                     (Mon1*RevPrj.loc[RevPrj['Subscription']=='Screambox','Slope'].values[0]) + RevPrj.loc[RevPrj['Subscription']=='Screambox','intercept'].values[0]],\n",
    "    # 1 Year Later\n",
    "   [Year1 , '7-2023',   (Year1*RevPrj.loc[RevPrj['Subscription']=='CONtv','Slope'].values[0]) + RevPrj.loc[RevPrj['Subscription']=='CONtv','intercept'].values[0],\n",
    "                     (Year1*RevPrj.loc[RevPrj['Subscription']=='Docurama','Slope'].values[0]) + RevPrj.loc[RevPrj['Subscription']=='Docurama','intercept'].values[0],\n",
    "                     (Year1*RevPrj.loc[RevPrj['Subscription']=='Dove','Slope'].values[0]) + RevPrj.loc[RevPrj['Subscription']=='Dove','intercept'].values[0],\n",
    "                     (Year1*RevPrj.loc[RevPrj['Subscription']=='Fandor','Slope'].values[0]) + RevPrj.loc[RevPrj['Subscription']=='Fandor','intercept'].values[0],\n",
    "                     (Year1*RevPrj.loc[RevPrj['Subscription']=='Screambox','Slope'].values[0]) + RevPrj.loc[RevPrj['Subscription']=='Screambox','intercept'].values[0]],\n",
    "    # 2 Years Later\n",
    "    [Year2 , '7-2024',   (Year2*RevPrj.loc[RevPrj['Subscription']=='CONtv','Slope'].values[0]) + RevPrj.loc[RevPrj['Subscription']=='CONtv','intercept'].values[0],\n",
    "                     (Year2*RevPrj.loc[RevPrj['Subscription']=='Docurama','Slope'].values[0]) + RevPrj.loc[RevPrj['Subscription']=='Docurama','intercept'].values[0],\n",
    "                     (Year2*RevPrj.loc[RevPrj['Subscription']=='Dove','Slope'].values[0]) + RevPrj.loc[RevPrj['Subscription']=='Dove','intercept'].values[0],\n",
    "                     (Year2*RevPrj.loc[RevPrj['Subscription']=='Fandor','Slope'].values[0]) + RevPrj.loc[RevPrj['Subscription']=='Fandor','intercept'].values[0],\n",
    "                     (Year2*RevPrj.loc[RevPrj['Subscription']=='Screambox','Slope'].values[0]) + RevPrj.loc[RevPrj['Subscription']=='Screambox','intercept'].values[0]],\n",
    "    #3 Years Later\n",
    "    [Year3 , '7-2025',   (Year3*RevPrj.loc[RevPrj['Subscription']=='CONtv','Slope'].values[0]) + RevPrj.loc[RevPrj['Subscription']=='CONtv','intercept'].values[0],\n",
    "                     (Year3*RevPrj.loc[RevPrj['Subscription']=='Docurama','Slope'].values[0]) + RevPrj.loc[RevPrj['Subscription']=='Docurama','intercept'].values[0],\n",
    "                     (Year3*RevPrj.loc[RevPrj['Subscription']=='Dove','Slope'].values[0]) + RevPrj.loc[RevPrj['Subscription']=='Dove','intercept'].values[0],\n",
    "                     (Year3*RevPrj.loc[RevPrj['Subscription']=='Fandor','Slope'].values[0]) + RevPrj.loc[RevPrj['Subscription']=='Fandor','intercept'].values[0],\n",
    "                     (Year3*RevPrj.loc[RevPrj['Subscription']=='Screambox','Slope'].values[0]) + RevPrj.loc[RevPrj['Subscription']=='Screambox','intercept'].values[0]],\n",
    "    #4 Years Later\n",
    "    [Year4 , '7-2026',   (Year4*RevPrj.loc[RevPrj['Subscription']=='CONtv','Slope'].values[0]) + RevPrj.loc[RevPrj['Subscription']=='CONtv','intercept'].values[0],\n",
    "                     (Year4*RevPrj.loc[RevPrj['Subscription']=='Docurama','Slope'].values[0]) + RevPrj.loc[RevPrj['Subscription']=='Docurama','intercept'].values[0],\n",
    "                     (Year4*RevPrj.loc[RevPrj['Subscription']=='Dove','Slope'].values[0]) + RevPrj.loc[RevPrj['Subscription']=='Dove','intercept'].values[0],\n",
    "                     (Year4*RevPrj.loc[RevPrj['Subscription']=='Fandor','Slope'].values[0]) + RevPrj.loc[RevPrj['Subscription']=='Fandor','intercept'].values[0],\n",
    "                     (Year4*RevPrj.loc[RevPrj['Subscription']=='Screambox','Slope'].values[0]) + RevPrj.loc[RevPrj['Subscription']=='Screambox','intercept'].values[0]]\n",
    "],\n",
    "                       columns=['Number','Date','CONtv','Docurama','Dove','Fandor','Screambox'])"
   ]
  },
  {
   "cell_type": "code",
   "execution_count": null,
   "id": "97b99f70",
   "metadata": {},
   "outputs": [],
   "source": [
    "(Mon1*RevPrj.iloc[0]['Slope']) + RevPrj.loc[RevPrj['Subscription']=='CONtv']['intercept'].values[0]"
   ]
  },
  {
   "cell_type": "code",
   "execution_count": null,
   "id": "6f454e02",
   "metadata": {},
   "outputs": [],
   "source": [
    "ProjTable"
   ]
  },
  {
   "cell_type": "markdown",
   "id": "802bf60b",
   "metadata": {},
   "source": [
    "# Subs Projections"
   ]
  },
  {
   "cell_type": "code",
   "execution_count": null,
   "id": "65faccdc",
   "metadata": {},
   "outputs": [],
   "source": [
    "TotMSubs= TotMRevM.loc[:,:]"
   ]
  },
  {
   "cell_type": "code",
   "execution_count": null,
   "id": "e35fccd2",
   "metadata": {},
   "outputs": [],
   "source": [
    "TotMSubs.loc[TotMSubs['Subscription']=='CONtv','4-2020':]=TotMSubs.loc[TotMSubs['Subscription']=='CONtv','4-2020':].div(4.99)\n",
    "TotMSubs.loc[TotMSubs['Subscription']=='Docurama','4-2020':]=TotMSubs.loc[TotMSubs['Subscription']=='Docurama','4-2020':].div(4.99)\n",
    "TotMSubs.loc[TotMSubs['Subscription']=='Dove','4-2020':]=TotMSubs.loc[TotMSubs['Subscription']=='Dove','4-2020':].div(4.99)\n",
    "TotMSubs.loc[TotMSubs['Subscription']=='Fandor','4-2020':]=TotMSubs.loc[TotMSubs['Subscription']=='Fandor','4-2020':].div(3.99)\n",
    "TotMSubs.loc[TotMSubs['Subscription']=='Screambox','4-2020':]=TotMSubs.loc[TotMSubs['Subscription']=='Screambox','4-2020':].div(4.99)"
   ]
  },
  {
   "cell_type": "code",
   "execution_count": null,
   "id": "eb271b23",
   "metadata": {},
   "outputs": [],
   "source": [
    "SubP= TotMSubs.set_index('Subscription').T\n",
    "SubP.reset_index(inplace=True)\n",
    "SubP.columns=['Date','CONtv','Docurama','Dove','Fandor','Screambox','Number']"
   ]
  },
  {
   "cell_type": "code",
   "execution_count": null,
   "id": "f9acaa51",
   "metadata": {},
   "outputs": [],
   "source": [
    "SubPrj= pd.DataFrame([\n",
    "    ['CONtv',linear_regression_int(SubP['Number'],SubP['CONtv']),linear_regression_slope(SubP['Number'],SubP['CONtv'])],\n",
    "    ['Docurama',linear_regression_int(SubP['Number'],SubP['Docurama']),linear_regression_slope(SubP['Number'],SubP['Docurama'])],\n",
    "    ['Dove',linear_regression_int(SubP['Number'],SubP['Dove']),linear_regression_slope(SubP['Number'],SubP['Dove'])],\n",
    "    ['Fandor',linear_regression_int(SubP['Number'],SubP['Fandor']),linear_regression_slope(SubP['Number'],SubP['Fandor'])],\n",
    "    ['Screambox',linear_regression_int(SubP['Number'],SubP['Screambox']),linear_regression_slope(SubP['Number'],SubP['Screambox'])]\n",
    "    \n",
    "], \n",
    "                     columns=['Subscription','intercept','Slope',])"
   ]
  },
  {
   "cell_type": "code",
   "execution_count": null,
   "id": "42ed3d90",
   "metadata": {},
   "outputs": [],
   "source": [
    "SubP"
   ]
  },
  {
   "cell_type": "code",
   "execution_count": null,
   "id": "01935c3b",
   "metadata": {},
   "outputs": [],
   "source": [
    "SubPrj"
   ]
  },
  {
   "cell_type": "code",
   "execution_count": null,
   "id": "cab3335f",
   "metadata": {},
   "outputs": [],
   "source": [
    "TotMSubs"
   ]
  },
  {
   "cell_type": "markdown",
   "id": "168aab6d",
   "metadata": {},
   "source": [
    "# Subs Projections (Last 6 Months)"
   ]
  },
  {
   "cell_type": "code",
   "execution_count": null,
   "id": "87ad0920",
   "metadata": {},
   "outputs": [],
   "source": [
    "SubP6=SubP.iloc[-6:]"
   ]
  },
  {
   "cell_type": "code",
   "execution_count": null,
   "id": "204f98e1",
   "metadata": {},
   "outputs": [],
   "source": [
    "Sub6Prj= pd.DataFrame([\n",
    "    ['CONtv',linear_regression_int(SubP6['Number'],SubP6['CONtv']),linear_regression_slope(SubP6['Number'],SubP6['CONtv'])],\n",
    "    ['Docurama',linear_regression_int(SubP6['Number'],SubP6['Docurama']),linear_regression_slope(SubP6['Number'],SubP6['Docurama'])],\n",
    "    ['Dove',linear_regression_int(SubP6['Number'],SubP6['Dove']),linear_regression_slope(SubP6['Number'],SubP6['Dove'])],\n",
    "    ['Fandor',linear_regression_int(SubP6['Number'],SubP6['Fandor']),linear_regression_slope(SubP6['Number'],SubP6['Fandor'])],\n",
    "    ['Screambox',linear_regression_int(SubP6['Number'],SubP6['Screambox']),linear_regression_slope(SubP6['Number'],SubP6['Screambox'])]\n",
    "    \n",
    "], \n",
    "                     columns=['Subscription','intercept','Slope',])"
   ]
  },
  {
   "cell_type": "code",
   "execution_count": null,
   "id": "75be6c75",
   "metadata": {},
   "outputs": [],
   "source": [
    "Sub6Prj"
   ]
  },
  {
   "cell_type": "code",
   "execution_count": null,
   "id": "29c4cafd",
   "metadata": {},
   "outputs": [],
   "source": [
    "SubP6"
   ]
  },
  {
   "cell_type": "markdown",
   "id": "f5746fe0",
   "metadata": {},
   "source": [
    "# Percent Rev increase by Year"
   ]
  },
  {
   "cell_type": "code",
   "execution_count": null,
   "id": "154e7608",
   "metadata": {},
   "outputs": [],
   "source": [
    "PercentSub= pd.DataFrame([\n",
    "    #Year 1\n",
    "    [ProjTable.iloc[3]['Number'], ProjTable.iloc[3]['Date']+'_+1Year_(LinReg)',   (ProjTable.iloc[3]['CONtv']-ProjTable.iloc[1]['CONtv'])/ProjTable.iloc[1]['CONtv'],\n",
    "                                                                         (ProjTable.iloc[3]['Docurama']-ProjTable.iloc[1]['Docurama'])/ProjTable.iloc[1]['Docurama'],\n",
    "                                                                         (ProjTable.iloc[3]['Dove']-ProjTable.iloc[1]['Dove'])/ProjTable.iloc[1]['Dove'],\n",
    "                                                                         (ProjTable.iloc[3]['Fandor']-ProjTable.iloc[1]['Fandor'])/ProjTable.iloc[1]['Fandor'],\n",
    "                                                                         (ProjTable.iloc[3]['Screambox']-ProjTable.iloc[1]['Screambox'])/ProjTable.iloc[1]['Screambox'] ],\n",
    "    #Year 2 \n",
    "    [ProjTable.iloc[4]['Number'], ProjTable.iloc[4]['Date']+'_+2Year_(LinReg)',   (ProjTable.iloc[4]['CONtv']-ProjTable.iloc[1]['CONtv'])/ProjTable.iloc[1]['CONtv'],\n",
    "                                                                         (ProjTable.iloc[4]['Docurama']-ProjTable.iloc[1]['Docurama'])/ProjTable.iloc[1]['Docurama'],\n",
    "                                                                         (ProjTable.iloc[4]['Dove']-ProjTable.iloc[1]['Dove'])/ProjTable.iloc[1]['Dove'],\n",
    "                                                                         (ProjTable.iloc[4]['Fandor']-ProjTable.iloc[1]['Fandor'])/ProjTable.iloc[1]['Fandor'],\n",
    "                                                                         (ProjTable.iloc[4]['Screambox']-ProjTable.iloc[1]['Screambox'])/ProjTable.iloc[1]['Screambox'] ],\n",
    "    #Year 3\n",
    "    [ProjTable.iloc[5]['Number'], ProjTable.iloc[5]['Date']+'_+3Year_(LinReg)',   (ProjTable.iloc[5]['CONtv']-ProjTable.iloc[1]['CONtv'])/ProjTable.iloc[1]['CONtv'],\n",
    "                                                                         (ProjTable.iloc[5]['Docurama']-ProjTable.iloc[1]['Docurama'])/ProjTable.iloc[1]['Docurama'],\n",
    "                                                                         (ProjTable.iloc[5]['Dove']-ProjTable.iloc[1]['Dove'])/ProjTable.iloc[1]['Dove'],\n",
    "                                                                         (ProjTable.iloc[5]['Fandor']-ProjTable.iloc[1]['Fandor'])/ProjTable.iloc[1]['Fandor'],\n",
    "                                                                         (ProjTable.iloc[5]['Screambox']-ProjTable.iloc[1]['Screambox'])/ProjTable.iloc[1]['Screambox'] ],\n",
    "    #Year 4\n",
    "    [ProjTable.iloc[6]['Number'], ProjTable.iloc[6]['Date']+'_+4Year_(LinReg)',   (ProjTable.iloc[6]['CONtv']-ProjTable.iloc[1]['CONtv'])/ProjTable.iloc[1]['CONtv'],\n",
    "                                                                         (ProjTable.iloc[6]['Docurama']-ProjTable.iloc[1]['Docurama'])/ProjTable.iloc[1]['Docurama'],\n",
    "                                                                         (ProjTable.iloc[6]['Dove']-ProjTable.iloc[1]['Dove'])/ProjTable.iloc[1]['Dove'],\n",
    "                                                                         (ProjTable.iloc[6]['Fandor']-ProjTable.iloc[1]['Fandor'])/ProjTable.iloc[1]['Fandor'],\n",
    "                                                                         (ProjTable.iloc[6]['Screambox']-ProjTable.iloc[1]['Screambox'])/ProjTable.iloc[1]['Screambox'] ],\n",
    "    \n",
    "], \n",
    "    columns=['Number','Date','CONtv','Docurama','Dove','Fandor','Screambox'])"
   ]
  },
  {
   "cell_type": "code",
   "execution_count": null,
   "id": "9c9ddfed",
   "metadata": {},
   "outputs": [],
   "source": [
    "PercentSub= PercentSub.loc[:,('Date','CONtv','Docurama','Dove','Fandor','Screambox')]\n",
    "PercentSub= PercentSub.set_index('Date').T\n"
   ]
  },
  {
   "cell_type": "code",
   "execution_count": null,
   "id": "a473d98b",
   "metadata": {},
   "outputs": [],
   "source": [
    "PercentSub"
   ]
  },
  {
   "cell_type": "code",
   "execution_count": null,
   "id": "c2b46f75",
   "metadata": {},
   "outputs": [],
   "source": [
    "PercentSub.reset_index(inplace=True)"
   ]
  },
  {
   "cell_type": "code",
   "execution_count": null,
   "id": "6f422682",
   "metadata": {},
   "outputs": [],
   "source": [
    "PercentSub.columns=['Subscription','+1Year%_(LinReg)','+2Year%_(LinReg)','+3Year%_(LinReg)','+4Year%_(LinReg)']"
   ]
  },
  {
   "cell_type": "code",
   "execution_count": null,
   "id": "7a35f43c",
   "metadata": {},
   "outputs": [],
   "source": [
    "PercentSub"
   ]
  },
  {
   "cell_type": "code",
   "execution_count": null,
   "id": "c3cdde5e",
   "metadata": {},
   "outputs": [],
   "source": [
    "Rev1['Yearly Avg']= Rev1['All Platforms monthly Rev Avg (10/8 estimate)']*12"
   ]
  },
  {
   "cell_type": "code",
   "execution_count": null,
   "id": "30f54f5c",
   "metadata": {},
   "outputs": [],
   "source": [
    "Rev1=pd.merge(Rev1,PercentSub, on='Subscription', how='left')"
   ]
  },
  {
   "cell_type": "code",
   "execution_count": null,
   "id": "a0f24a02",
   "metadata": {},
   "outputs": [],
   "source": [
    "Rev1['+1 Year Proj.']= Rev1['Yearly Avg']* (1+ Rev1['+1Year%_(LinReg)'])\n",
    "Rev1['+2 Year Proj.']= Rev1['Yearly Avg']* (1+ Rev1['+2Year%_(LinReg)'])\n",
    "Rev1['+3 Year Proj.']= Rev1['Yearly Avg']* (1+ Rev1['+3Year%_(LinReg)'])\n",
    "Rev1['+4 Year Proj.']= Rev1['Yearly Avg']* (1+ Rev1['+4Year%_(LinReg)'])\n",
    "\n",
    "#New Rev\n",
    "Rev1['+1 Year Proj. (New Rev)']= Rev1['+1 Year Proj.'] - Rev1['Yearly Avg']\n",
    "Rev1['+2 Year Proj. (New Rev)']= Rev1['+2 Year Proj.'] - Rev1['+1 Year Proj.']\n",
    "Rev1['+3 Year Proj. (New Rev)']= Rev1['+3 Year Proj.'] - Rev1['+2 Year Proj.']\n",
    "Rev1['+4 Year Proj. (New Rev)']= Rev1['+4 Year Proj.'] - Rev1['+3 Year Proj.']"
   ]
  },
  {
   "cell_type": "code",
   "execution_count": null,
   "id": "8e34e75d",
   "metadata": {},
   "outputs": [],
   "source": [
    "Rev1"
   ]
  },
  {
   "cell_type": "code",
   "execution_count": null,
   "id": "6cc2c26c",
   "metadata": {},
   "outputs": [],
   "source": [
    "Content2= Content2.loc[:,('Subscription','Year','Date','Month','Month Abv','ID','TV/MOVIE','Title',\n",
    "                          'Amzn Min Streamed','Amzn Streams','Amzn Min/Stream','Roku Min Streamed','Roku Streams','Roku Min/Stream',\n",
    "                          'Total Min Streamed','Percentile Rank (Min)','Total Streams','Min/Stream','Content Month Rev')]"
   ]
  },
  {
   "cell_type": "markdown",
   "id": "c04d00c0-ad74-49a0-9409-8001d4c673ba",
   "metadata": {},
   "source": [
    "# Plots"
   ]
  },
  {
   "cell_type": "code",
   "execution_count": null,
   "id": "2b8317cb-5c77-47a5-92b4-a3eb9d9f62a9",
   "metadata": {},
   "outputs": [],
   "source": [
    "ContDist =Content2.loc[:,('Subscription','Date','Total Min Streamed')]"
   ]
  },
  {
   "cell_type": "code",
   "execution_count": null,
   "id": "5d57d86a-8046-4c1e-a4fc-2c409d3b9973",
   "metadata": {},
   "outputs": [],
   "source": [
    "CDSx= ContDist.loc[(ContDist['Subscription']=='Screambox') & (ContDist['Date']== 'May-2022'),:]"
   ]
  },
  {
   "cell_type": "code",
   "execution_count": null,
   "id": "6bc0416c-c390-4145-9984-35aee2499257",
   "metadata": {},
   "outputs": [],
   "source": [
    "CDS= CDSx.loc[:,:].reset_index()"
   ]
  },
  {
   "cell_type": "code",
   "execution_count": null,
   "id": "fe1a5001-24b2-4ba2-b279-a40b4737d0c8",
   "metadata": {},
   "outputs": [],
   "source": [
    "CDS['Percent']= (CDS['Total Min Streamed']/CDS['Total Min Streamed'].sum())\n",
    "CDS.sort_values(by='Total Min Streamed', inplace=True, ascending=False)"
   ]
  },
  {
   "cell_type": "code",
   "execution_count": null,
   "id": "b9526804-80d8-4302-afba-4e8b905adf04",
   "metadata": {},
   "outputs": [],
   "source": [
    "CDS['PErcentile']= CDS.groupby(by=['Subscription', 'Date'])['Total Min Streamed'].rank(pct=True)"
   ]
  },
  {
   "cell_type": "code",
   "execution_count": null,
   "id": "dacc9cb1-c63c-43bf-9d61-7f92bae12042",
   "metadata": {},
   "outputs": [],
   "source": [
    "CDS['rank']= CDS.groupby(by=['Subscription', 'Date'])['Total Min Streamed'].rank(ascending=False, method='first')"
   ]
  },
  {
   "cell_type": "code",
   "execution_count": null,
   "id": "cdf8583c-fb46-4058-a4a6-570eb223b448",
   "metadata": {},
   "outputs": [],
   "source": [
    "CDS['Percent of Total Count (Lrgst to Smlst)']= (CDS['rank']/705)*100"
   ]
  },
  {
   "cell_type": "code",
   "execution_count": null,
   "id": "c0fff9fc-0a75-40fe-aef6-73a3e384edb0",
   "metadata": {},
   "outputs": [],
   "source": [
    "CDS['Cumulative Sum (Minutes)']=CDS['Total Min Streamed'].cumsum()"
   ]
  },
  {
   "cell_type": "code",
   "execution_count": null,
   "id": "57c2a8c0-0af7-48fd-a432-d1c3ff1e7871",
   "metadata": {},
   "outputs": [],
   "source": [
    "CDS['Percent of Total Min (Lrgst to Smlst)']= CDS['Cumulative Sum (Minutes)']/ CDS['Cumulative Sum (Minutes)'].max()"
   ]
  },
  {
   "cell_type": "code",
   "execution_count": null,
   "id": "51890fa3-3e2f-44b6-bd42-02fdf159330e",
   "metadata": {},
   "outputs": [],
   "source": [
    "CDS"
   ]
  },
  {
   "cell_type": "code",
   "execution_count": null,
   "id": "d59dceb1-9c3a-4b4e-8f98-1a7772dfbd83",
   "metadata": {},
   "outputs": [],
   "source": [
    "fig, ax = plt.subplots(figsize=(19,10))\n",
    "x1= CDS['Percent of Total Count (Lrgst to Smlst)']\n",
    "y1= CDS['Percent of Total Min (Lrgst to Smlst)']\n",
    "\n",
    "ax.plot(x1,y1)\n",
    "plt.show()"
   ]
  },
  {
   "cell_type": "code",
   "execution_count": null,
   "id": "a5489bf7-1363-4496-b1db-dff6d1661ef5",
   "metadata": {},
   "outputs": [],
   "source": [
    "x= CDS['Percent']\n",
    "fig, ax= plt.subplots(figsize=(19,10))\n",
    "ax.hist(x, bins=50)\n",
    "plt.show()"
   ]
  },
  {
   "cell_type": "markdown",
   "id": "3e4edb3b",
   "metadata": {},
   "source": [
    "# Last Look"
   ]
  },
  {
   "cell_type": "code",
   "execution_count": null,
   "id": "dab45ab7",
   "metadata": {},
   "outputs": [],
   "source": [
    "Subs.head(10)"
   ]
  },
  {
   "cell_type": "code",
   "execution_count": null,
   "id": "6e10f248",
   "metadata": {},
   "outputs": [],
   "source": [
    "Content2"
   ]
  },
  {
   "cell_type": "code",
   "execution_count": null,
   "id": "d7ec3d74",
   "metadata": {},
   "outputs": [],
   "source": [
    "CM"
   ]
  },
  {
   "cell_type": "code",
   "execution_count": null,
   "id": "eed4c538",
   "metadata": {},
   "outputs": [],
   "source": [
    "SubP"
   ]
  },
  {
   "cell_type": "code",
   "execution_count": null,
   "id": "b9b1dd24",
   "metadata": {},
   "outputs": [],
   "source": [
    "SubPrj"
   ]
  },
  {
   "cell_type": "code",
   "execution_count": null,
   "id": "743b303b",
   "metadata": {},
   "outputs": [],
   "source": [
    "SubP6"
   ]
  },
  {
   "cell_type": "code",
   "execution_count": null,
   "id": "52d46e1e",
   "metadata": {},
   "outputs": [],
   "source": [
    "Sub6Prj"
   ]
  },
  {
   "cell_type": "code",
   "execution_count": null,
   "id": "9b34252c",
   "metadata": {},
   "outputs": [],
   "source": [
    "Rev1"
   ]
  },
  {
   "cell_type": "code",
   "execution_count": null,
   "id": "c4b6058a",
   "metadata": {},
   "outputs": [],
   "source": [
    "output= pd.ExcelWriter('Amazon_Roku SVOD '+Monthsinc+' out.xlsx', engine='xlsxwriter')\n",
    "\n",
    "Subs.to_excel(output, sheet_name= 'Subscriptions',index=False)\n",
    "Content2.to_excel(output, sheet_name= 'Content',index=False)\n",
    "CM.to_excel(output, sheet_name='Monthly Title Trend', index=False)\n",
    "SubP.to_excel(output, sheet_name='Sub Projections', index=False)\n",
    "SubPrj.to_excel(output, sheet_name='Sub Slp_int', index=False)\n",
    "SubP6.to_excel(output, sheet_name='Sub6 Projections', index=False)\n",
    "Sub6Prj.to_excel(output, sheet_name='Sub6 Slp_int', index=False)\n",
    "Rev1.to_excel(output, sheet_name='Revenue', index=False)\n",
    "\n",
    "output.save()"
   ]
  },
  {
   "cell_type": "code",
   "execution_count": null,
   "id": "3a48efc2",
   "metadata": {},
   "outputs": [],
   "source": []
  }
 ],
 "metadata": {
  "kernelspec": {
   "display_name": "Python 3",
   "language": "python",
   "name": "python3"
  },
  "language_info": {
   "codemirror_mode": {
    "name": "ipython",
    "version": 3
   },
   "file_extension": ".py",
   "mimetype": "text/x-python",
   "name": "python",
   "nbconvert_exporter": "python",
   "pygments_lexer": "ipython3",
   "version": "3.8.8"
  }
 },
 "nbformat": 4,
 "nbformat_minor": 5
}
